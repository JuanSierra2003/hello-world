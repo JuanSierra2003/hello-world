{
 "cells": [
  {
   "cell_type": "code",
   "execution_count": 17,
   "metadata": {},
   "outputs": [],
   "source": [
    "import numpy as np\n",
    "from matplotlib import pyplot as plt\n",
    "from cycler import cycler"
   ]
  },
  {
   "cell_type": "code",
   "execution_count": 18,
   "metadata": {},
   "outputs": [],
   "source": [
    "def topologico(v, w): return np.abs(v) > np.abs(w)"
   ]
  },
  {
   "cell_type": "code",
   "execution_count": 19,
   "metadata": {},
   "outputs": [],
   "source": [
    "# Parámetros de estilo de la gráfica\n",
    "tex_fonts = {\n",
    "    \"text.usetex\": False,\n",
    "    \"font.family\": \"serif\",\n",
    "    \"axes.labelsize\": 10,\n",
    "    \"font.size\": 10,\n",
    "    \"legend.fontsize\": 9,\n",
    "    \"xtick.labelsize\": 9,\n",
    "    \"ytick.labelsize\": 9\n",
    "}\n",
    "\n",
    "from cycler import cycler\n",
    "# Set a global color cycle\n",
    "plt.rcParams['axes.prop_cycle'] = cycler(color=[\n",
    "    \"#72B5E5\",  # Celeste más apagado\n",
    "    \"#3A88C9\",  # Azul intermedio más intenso\n",
    "    \"#2554A5\",  # Azul profundo (cercano al azul real)\n",
    "    \"#5A33C9\",  # Azul violáceo intenso\n",
    "    \"#6825A5\",  # Violeta frío fuerte\n",
    "    \"#75189D\"   # Púrpura frío vibrante con alto contraste\n",
    "])\n",
    "\n",
    "plt.style.use('seaborn-v0_8-white')\n",
    "plt.rcParams.update(tex_fonts)"
   ]
  },
  {
   "cell_type": "code",
   "execution_count": 20,
   "metadata": {},
   "outputs": [],
   "source": [
    "v = np.linspace(-10, 10, 100)\n",
    "_v = np.linspace(-10, 0, 100)\n",
    "v_ = np.linspace(0, 10, 100)\n",
    "\n",
    "lv = np.linspace(-1,1, 100)"
   ]
  },
  {
   "cell_type": "code",
   "execution_count": 24,
   "metadata": {},
   "outputs": [
    {
     "data": {
      "image/png": "[encoded data removed]",
      "text/plain": [
       "<Figure size 640x480 with 1 Axes>"
      ]
     },
     "metadata": {},
     "output_type": "display_data"
    }
   ],
   "source": [
    "fig, ax = plt.subplots()\n",
    "ax.set_aspect('equal')\n",
    "\n",
    "plt.fill_between(v_, -v_, v_, color = '#3A88C9', alpha=.5, label='trivial')\n",
    "plt.fill_between(_v, _v, -_v, color = '#3A88C9', alpha=.5)\n",
    "\n",
    "plt.fill_between(v, np.abs(v), 10, color = '#5A33C9', alpha=.5, label='topológico')\n",
    "plt.fill_between(v, -10, -np.abs(v), color = '#5A33C9', alpha=.5)\n",
    "\n",
    "plt.plot(v, v, 'k', linewidth=2,  label=r'$v = \\pm w$')\n",
    "plt.plot(v, -v, 'k', linewidth=2)\n",
    "\n",
    "plt.plot(1.2+ lv +6, np.sqrt(1-lv**2) +2.5, 'w')\n",
    "plt.plot(1.2+ lv +6, -np.sqrt(1-lv**2) +2.5, 'w')\n",
    "plt.plot(2.3*lv +6, lv*0 +2.5, 'w')\n",
    "plt.plot(lv*0 +6, 2.3*lv +2.5, 'w')\n",
    "\n",
    "plt.plot(-1.2+ lv -6, np.sqrt(1-lv**2) +2.5, 'w')\n",
    "plt.plot(-1.2+ lv -6, -np.sqrt(1-lv**2) +2.5, 'w')\n",
    "plt.plot(2.3*lv -6, lv*0 +2.5, 'w')\n",
    "plt.plot(lv*0 -6, 2.3*lv +2.5, 'w')\n",
    "\n",
    "plt.plot(1.2+ lv +6, np.sqrt(1-lv**2) -2.5, 'w')\n",
    "plt.plot(1.2+ lv +6, -np.sqrt(1-lv**2) -2.5, 'w')\n",
    "plt.plot(2.3*lv +6, lv*0 -2.5, 'w')\n",
    "plt.plot(lv*0 +6, 2.3*lv -2.5, 'w')\n",
    "\n",
    "plt.plot(-1.2+ lv -6, np.sqrt(1-lv**2) -2.5, 'w')\n",
    "plt.plot(-1.2+ lv -6, -np.sqrt(1-lv**2) -2.5, 'w')\n",
    "plt.plot(2.3*lv -6, lv*0 -2.5, 'w')\n",
    "plt.plot(lv*0 -6, 2.3*lv -2.5, 'w')\n",
    "\n",
    "plt.plot(.6+ lv +2.5, np.sqrt(1-lv**2) +6, 'w')\n",
    "plt.plot(.6+ lv +2.5, -np.sqrt(1-lv**2) +6, 'w')\n",
    "plt.plot(2.3*lv +2.5, lv*0 +6, 'w')\n",
    "plt.plot(lv*0 +2.5, 2.3*lv +6, 'w')\n",
    "\n",
    "plt.plot(-.6+ lv -2.5, np.sqrt(1-lv**2) +6, 'w')\n",
    "plt.plot(-.6+ lv -2.5, -np.sqrt(1-lv**2) +6, 'w')\n",
    "plt.plot(2.3*lv -2.5, lv*0 +6, 'w')\n",
    "plt.plot(lv*0 -2.5, 2.3*lv +6, 'w')\n",
    "\n",
    "plt.plot(.6+ lv +2.5, np.sqrt(1-lv**2) -6, 'w')\n",
    "plt.plot(.6+ lv +2.5, -np.sqrt(1-lv**2) -6, 'w')\n",
    "plt.plot(2.3*lv +2.5, lv*0 -6, 'w')\n",
    "plt.plot(lv*0 +2.5, 2.3*lv -6, 'w')\n",
    "\n",
    "plt.plot(-.6+ lv -2.5, np.sqrt(1-lv**2) -6, 'w')\n",
    "plt.plot(-.6+ lv -2.5, -np.sqrt(1-lv**2) -6, 'w')\n",
    "plt.plot(2.3*lv -2.5, lv*0 -6, 'w')\n",
    "plt.plot(lv*0 -2.5, 2.3*lv -6, 'w')\n",
    "\n",
    "plt.grid()\n",
    "\n",
    "plt.xticks([0])\n",
    "plt.yticks([0])\n",
    "\n",
    "plt.xlabel(r'$v$')\n",
    "plt.ylabel(r'$w$')\n",
    "\n",
    "plt.xlim((-10,10))\n",
    "plt.ylim((-10,10))\n",
    "\n",
    "plt.legend(fancybox=True, frameon=True, loc='upper right')\n",
    "\n",
    "plt.savefig('espacio_de_fase', dpi=300)"
   ]
  },
  {
   "cell_type": "code",
   "execution_count": null,
   "metadata": {},
   "outputs": [],
   "source": []
  }
 ],
 "metadata": {
  "kernelspec": {
   "display_name": "base",
   "language": "python",
   "name": "python3"
  },
  "language_info": {
   "codemirror_mode": {
    "name": "ipython",
    "version": 3
   },
   "file_extension": ".py",
   "mimetype": "text/x-python",
   "name": "python",
   "nbconvert_exporter": "python",
   "pygments_lexer": "ipython3",
   "version": "3.12.2"
  }
 },
 "nbformat": 4,
 "nbformat_minor": 2
}
