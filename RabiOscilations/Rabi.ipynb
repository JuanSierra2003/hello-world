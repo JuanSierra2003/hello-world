{
 "cells": [
  {
   "cell_type": "code",
   "execution_count": 17,
   "metadata": {},
   "outputs": [],
   "source": [
    "import numpy as np\n",
    "from matplotlib import pyplot as plt\n",
    "from scipy.integrate import quad\n",
    "from scipy.linalg import expm "
   ]
  },
  {
   "cell_type": "code",
   "execution_count": 18,
   "metadata": {},
   "outputs": [],
   "source": [
    "gamma = -1\n",
    "w = 1\n",
    "\n",
    "def timeEvol(t_ini, t_fin):\n",
    "    dt = t_fin - t_ini\n",
    "    dcos = np.cos(w*t_fin) - np.cos(w*t_ini)\n",
    "    dsin = np.sin(w*t_fin) - np.sin(w*t_ini)\n",
    "\n",
    "    u = np.array([[1 + .5j*dt, -(-1j*dsin + gamma*dcos)/w],\n",
    "                  [(1j*dsin + gamma*dcos)/w, 1 - .5j*dt]])\n",
    "    return u"
   ]
  },
  {
   "cell_type": "code",
   "execution_count": 19,
   "metadata": {},
   "outputs": [],
   "source": [
    "\n",
    "def Integrate(H, a, b):\n",
    "    # Get the shape of the matrix by evaluating the function at some point\n",
    "    sample_matrix = H((a + b) / 2)\n",
    "    matrix_shape = sample_matrix.shape\n",
    "    \n",
    "    # Initialize the result matrix with the same shape\n",
    "    result_matrix = np.zeros(matrix_shape)\n",
    "\n",
    "    # Iterate over each element in the matrix and integrate it\n",
    "    for i in range(matrix_shape[0]):\n",
    "        for j in range(matrix_shape[1]):\n",
    "            # Define a lambda function that returns the specific element for integration\n",
    "            element_func = lambda t: H(t)[i, j]\n",
    "            result_matrix[i, j] = quad(element_func, a, b)[0]\n",
    "    \n",
    "    return result_matrix\n",
    "\n",
    "def Magnus2(H, a, b):\n",
    "    return Integrate(lambda t1: H(t1) + .5*Integrate(lambda t2: np.matmul(H(t1),H(t2))-np.matmul(H(t2),H(t1)), a, t1), a, b)"
   ]
  },
  {
   "cell_type": "code",
   "execution_count": 20,
   "metadata": {},
   "outputs": [],
   "source": [
    "\n",
    "tau = 1\n",
    "omega_0 = 1\n",
    "omega_l = 0\n",
    "alpha = 0\n",
    "area = np.pi\n",
    "\n",
    "def env(t):\n",
    "    E_0 = area/np.sqrt(2*np.pi)\n",
    "    g1 = np.exp(-0.5*t*2/tau*2)\n",
    "    return E_0*g1\n",
    "\n",
    "def phase(t):\n",
    "    return np.exp(-1j*alpha*t**2)\n",
    "\n",
    "delta = omega_l-omega_0\n",
    "delta_p = omega_l+omega_0\n",
    "\n",
    "def hamiltonian(t):\n",
    "    h = np.array([[0, -0.5*env(t)*phase(t)*np.exp(-1j*delta_p*t) - 0.5*env(t)*np.conj(phase(t))*np.exp(1j*delta*t)],\n",
    "        [-0.5*env(t)*phase(t)*np.exp(-1j*delta*t) - 0.5*env(t)*np.conj(phase(t))*np.exp(1j*delta_p*t), 0]], dtype='complex')\n",
    "    return h"
   ]
  },
  {
   "cell_type": "code",
   "execution_count": 21,
   "metadata": {},
   "outputs": [
    {
     "name": "stderr",
     "output_type": "stream",
     "text": [
      "/home/ju/miniconda3/lib/python3.12/site-packages/scipy/integrate/_quadpack_py.py:611: ComplexWarning: Casting complex values to real discards the imaginary part\n",
      "  return _quadpack._qagse(func,a,b,args,full_output,epsabs,epsrel,limit)\n",
      "/home/ju/miniconda3/lib/python3.12/site-packages/scipy/linalg/_matfuncs.py:358: RuntimeWarning: overflow encountered in matmul\n",
      "  eAw = eAw @ eAw\n",
      "/home/ju/miniconda3/lib/python3.12/site-packages/scipy/linalg/_matfuncs.py:358: RuntimeWarning: invalid value encountered in matmul\n",
      "  eAw = eAw @ eAw\n"
     ]
    },
    {
     "data": {
      "image/png": "[encoded data removed]",
      "text/plain": [
       "<Figure size 640x480 with 1 Axes>"
      ]
     },
     "metadata": {},
     "output_type": "display_data"
    }
   ],
   "source": [
    "\n",
    "phi_0 = np.array([1, 0])\n",
    "\n",
    "N = 10\n",
    "T = 10\n",
    "time = np.linspace(-T, T, N)\n",
    "prop_g = np.ones(N)\n",
    "prop_e = np.zeros(N)\n",
    "dt = T/N\n",
    "\n",
    "\n",
    "temp = phi_0\n",
    "for ii in range(N-1):\n",
    "    temp = np.einsum('ij, j', expm(Magnus2(hamiltonian, time[ii], time[ii+1])), temp)\n",
    "    prop_g[ii+1] = np.abs(temp[0])**2\n",
    "    prop_e[ii+1] = np.abs(temp[1])**2\n",
    "\n",
    "plt.plot(time, prop_g, time, prop_e, time, prop_g + prop_e)\n",
    "plt.show()\n"
   ]
  },
  {
   "cell_type": "code",
   "execution_count": 22,
   "metadata": {},
   "outputs": [],
   "source": [
    "#Fast pulse definition\n",
    "def envelop(tau, area, t):\n",
    "\n",
    "    return area*np.exp(-.5*(t**2)/(tau**2))/(tau*np.sqrt(2*np.pi))"
   ]
  },
  {
   "cell_type": "code",
   "execution_count": 23,
   "metadata": {},
   "outputs": [
    {
     "data": {
      "image/png": "[encoded data removed]",
      "text/plain": [
       "<Figure size 640x480 with 1 Axes>"
      ]
     },
     "metadata": {},
     "output_type": "display_data"
    }
   ],
   "source": [
    "n=1\n",
    "tau = 1\n",
    "w0 = 1\n",
    "w = 1\n",
    "\n",
    "def H(t): \n",
    "    E0 = envelop(tau, n*np.pi, t)\n",
    "\n",
    "    return np.array([[-.5*w0, -.5*E0*np.cos(w*t)],\n",
    "                     [-.5*E0*np.cos(w*t), .5*w0]], dtype='complex')\n",
    "\n",
    "phi_0 = np.array([1, 0])\n",
    "N = 100000\n",
    "T = 10\n",
    "dt = T/N\n",
    "\n",
    "phi_t = np.zeros((N,2), dtype='complex')\n",
    "phi_t[0] = phi_0\n",
    "\n",
    "time = np.linspace(-T, T, N)\n",
    "for ii in range(N-1):\n",
    "    phi_t[ii+1] = phi_t[ii] - 1j*np.matmul(H(time[ii]), phi_t[ii])*dt\n",
    "\n",
    "plt.plot(time, np.abs(phi_t[:,0])**2, time, np.abs(phi_t[:,1])**2, time, envelop(tau, n*np.pi, time)/(n*np.pi))\n",
    "plt.show()"
   ]
  },
  {
   "cell_type": "code",
   "execution_count": 24,
   "metadata": {},
   "outputs": [
    {
     "data": {
      "text/plain": [
       "3.1415926535897927"
      ]
     },
     "execution_count": 24,
     "metadata": {},
     "output_type": "execute_result"
    }
   ],
   "source": [
    "from scipy.integrate import quad\n",
    "quad(lambda t: envelop(tau, n*np.pi, t), -np.inf, np.inf)[0]\n"
   ]
  }
 ],
 "metadata": {
  "kernelspec": {
   "display_name": "base",
   "language": "python",
   "name": "python3"
  },
  "language_info": {
   "codemirror_mode": {
    "name": "ipython",
    "version": 3
   },
   "file_extension": ".py",
   "mimetype": "text/x-python",
   "name": "python",
   "nbconvert_exporter": "python",
   "pygments_lexer": "ipython3",
   "version": "3.12.2"
  }
 },
 "nbformat": 4,
 "nbformat_minor": 2
}
