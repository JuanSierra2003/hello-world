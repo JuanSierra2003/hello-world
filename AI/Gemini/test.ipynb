{
 "cells": [
  {
   "cell_type": "code",
   "execution_count": 2,
   "metadata": {},
   "outputs": [],
   "source": [
    "import numpy as np\n",
    "from PIL import Image\n",
    "import io\n",
    "from key import GEMINI_API_KEY"
   ]
  },
  {
   "cell_type": "code",
   "execution_count": 3,
   "metadata": {},
   "outputs": [
    {
     "name": "stderr",
     "output_type": "stream",
     "text": [
      "/home/ju/miniconda3/envs/AI/lib/python3.13/site-packages/tqdm/auto.py:21: TqdmWarning: IProgress not found. Please update jupyter and ipywidgets. See https://ipywidgets.readthedocs.io/en/stable/user_install.html\n",
      "  from .autonotebook import tqdm as notebook_tqdm\n"
     ]
    }
   ],
   "source": [
    "import google.generativeai as genai\n",
    "\n",
    "# Configure the API key# Send to Gemini\n",
    "genai.configure(api_key='key')\n",
    "\n",
    "# Initialize the model (e.g., 'gemini-pro' for text)\n",
    "model = genai.GenerativeModel('gemini-2.0-flash')"
   ]
  },
  {
   "cell_type": "code",
   "execution_count": 4,
   "metadata": {},
   "outputs": [
    {
     "ename": "InvalidArgument",
     "evalue": "400 API key not valid. Please pass a valid API key. [reason: \"API_KEY_INVALID\"\ndomain: \"googleapis.com\"\nmetadata {\n  key: \"service\"\n  value: \"generativelanguage.googleapis.com\"\n}\n, locale: \"en-US\"\nmessage: \"API key not valid. Please pass a valid API key.\"\n]",
     "output_type": "error",
     "traceback": [
      "\u001b[0;31m---------------------------------------------------------------------------\u001b[0m",
      "\u001b[0;31mInvalidArgument\u001b[0m                           Traceback (most recent call last)",
      "Cell \u001b[0;32mIn[4], line 16\u001b[0m\n\u001b[1;32m      9\u001b[0m \u001b[38;5;66;03m# Method 1: Create a Blob-like dictionary\u001b[39;00m\n\u001b[1;32m     10\u001b[0m image_blob \u001b[38;5;241m=\u001b[39m {\n\u001b[1;32m     11\u001b[0m     \u001b[38;5;124m\"\u001b[39m\u001b[38;5;124mmime_type\u001b[39m\u001b[38;5;124m\"\u001b[39m: \u001b[38;5;124m\"\u001b[39m\u001b[38;5;124mimage/jpeg\u001b[39m\u001b[38;5;124m\"\u001b[39m,  \u001b[38;5;66;03m# Change to \"image/png\" for PNG\u001b[39;00m\n\u001b[1;32m     12\u001b[0m     \u001b[38;5;124m\"\u001b[39m\u001b[38;5;124mdata\u001b[39m\u001b[38;5;124m\"\u001b[39m: img_bytes\n\u001b[1;32m     13\u001b[0m }\n\u001b[0;32m---> 16\u001b[0m response \u001b[38;5;241m=\u001b[39m model\u001b[38;5;241m.\u001b[39mgenerate_content([\n\u001b[1;32m     17\u001b[0m \u001b[38;5;250m    \u001b[39m\u001b[38;5;124;03m\"\"\"Extract the information from the image and complete this python dictionary\u001b[39;00m\n\u001b[1;32m     18\u001b[0m \u001b[38;5;124;03m{Ciudad de radicación: str,\u001b[39;00m\n\u001b[1;32m     19\u001b[0m \u001b[38;5;124;03mFecha de diligenciamiento: date,\u001b[39;00m\n\u001b[1;32m     20\u001b[0m \u001b[38;5;124;03mTipo de solicitud: str,\u001b[39;00m\n\u001b[1;32m     21\u001b[0m \n\u001b[1;32m     22\u001b[0m \u001b[38;5;124;03mNúmero de radicación (Diners club): int,\u001b[39;00m\n\u001b[1;32m     23\u001b[0m \u001b[38;5;124;03mNúmero de radicación (Visa): int,\u001b[39;00m\n\u001b[1;32m     24\u001b[0m \u001b[38;5;124;03mNúmero de radicación (MasterCard): int,\u001b[39;00m\n\u001b[1;32m     25\u001b[0m \u001b[38;5;124;03mRazón social: str,\u001b[39;00m\n\u001b[1;32m     26\u001b[0m \u001b[38;5;124;03mNombre comercial: str,\u001b[39;00m\n\u001b[1;32m     27\u001b[0m \u001b[38;5;124;03mNúmero de matricula y/o Registro mercantil: int,\u001b[39;00m\n\u001b[1;32m     28\u001b[0m \u001b[38;5;124;03mNombre de actividad comercial: str,\u001b[39;00m\n\u001b[1;32m     29\u001b[0m \u001b[38;5;124;03mNIT: int,\u001b[39;00m\n\u001b[1;32m     30\u001b[0m \u001b[38;5;124;03mDV: int,\u001b[39;00m\n\u001b[1;32m     31\u001b[0m \u001b[38;5;124;03mCódigo CIIU: int,\u001b[39;00m\n\u001b[1;32m     32\u001b[0m \u001b[38;5;124;03mMCC REAL: int,\u001b[39;00m\n\u001b[1;32m     33\u001b[0m \u001b[38;5;124;03mCódigo Único int,\u001b[39;00m\n\u001b[1;32m     34\u001b[0m \u001b[38;5;124;03mTipo de venta: str,\u001b[39;00m\n\u001b[1;32m     35\u001b[0m \u001b[38;5;124;03mResponsabilidades tributarias: table,\u001b[39;00m\n\u001b[1;32m     36\u001b[0m \u001b[38;5;124;03mDirección punto de venta del establecimiento: str,\u001b[39;00m\n\u001b[1;32m     37\u001b[0m \u001b[38;5;124;03mDepartamento: str,\u001b[39;00m\n\u001b[1;32m     38\u001b[0m \u001b[38;5;124;03mCiudad: str,\u001b[39;00m\n\u001b[1;32m     39\u001b[0m \u001b[38;5;124;03mTeléfono punto de venta: int,\u001b[39;00m\n\u001b[1;32m     40\u001b[0m \u001b[38;5;124;03mDirección de correspondencia: str,\u001b[39;00m\n\u001b[1;32m     41\u001b[0m \u001b[38;5;124;03mDepartamento: str,\u001b[39;00m\n\u001b[1;32m     42\u001b[0m \u001b[38;5;124;03mCodigo DANE: int,\u001b[39;00m\n\u001b[1;32m     43\u001b[0m \u001b[38;5;124;03mCiudad: str,\u001b[39;00m\n\u001b[1;32m     44\u001b[0m \u001b[38;5;124;03mCorreo electrónico: str,\u001b[39;00m\n\u001b[1;32m     45\u001b[0m \u001b[38;5;124;03mCelular: int,\u001b[39;00m\n\u001b[1;32m     46\u001b[0m \u001b[38;5;124;03mTipo de empresa/Clase de empresa/Tipo de sociedad: str,\u001b[39;00m\n\u001b[1;32m     47\u001b[0m \u001b[38;5;124;03mNaturaleza: str,\u001b[39;00m\n\u001b[1;32m     48\u001b[0m \u001b[38;5;124;03mTipo de afiliación: str,\u001b[39;00m\n\u001b[1;32m     49\u001b[0m \u001b[38;5;124;03mTipo de establecimiento: str,\u001b[39;00m\n\u001b[1;32m     50\u001b[0m \u001b[38;5;124;03mAfiliado a otros sistemas: str,\u001b[39;00m\n\u001b[1;32m     51\u001b[0m \u001b[38;5;124;03mPasarela de pagos: str,\u001b[39;00m\n\u001b[1;32m     52\u001b[0m \u001b[38;5;124;03mComercio agregado: str,\u001b[39;00m\n\u001b[1;32m     53\u001b[0m \u001b[38;5;124;03mNombres: str,\u001b[39;00m\n\u001b[1;32m     54\u001b[0m \u001b[38;5;124;03mPrimer apellido: str,\u001b[39;00m\n\u001b[1;32m     55\u001b[0m \u001b[38;5;124;03mSegundo apellido: str,\u001b[39;00m\n\u001b[1;32m     56\u001b[0m \u001b[38;5;124;03mNúmero: int,\u001b[39;00m\n\u001b[1;32m     57\u001b[0m \u001b[38;5;124;03mFecha de nacimiento: date,\u001b[39;00m\n\u001b[1;32m     58\u001b[0m \u001b[38;5;124;03mFecha de expedición ID: date,\u001b[39;00m\n\u001b[1;32m     59\u001b[0m \u001b[38;5;124;03mSexo: str,\u001b[39;00m\n\u001b[1;32m     60\u001b[0m \u001b[38;5;124;03mDirección residencia: str,\u001b[39;00m\n\u001b[1;32m     61\u001b[0m \u001b[38;5;124;03mDepartamento: str,\u001b[39;00m\n\u001b[1;32m     62\u001b[0m \u001b[38;5;124;03mCiudad: str,\u001b[39;00m\n\u001b[1;32m     63\u001b[0m \u001b[38;5;124;03mCorreo electrónico: str,\u001b[39;00m\n\u001b[1;32m     64\u001b[0m \u001b[38;5;124;03mCelular: int,\u001b[39;00m\n\u001b[1;32m     65\u001b[0m \u001b[38;5;124;03mDeclaro que: str,\u001b[39;00m\n\u001b[1;32m     66\u001b[0m \u001b[38;5;124;03mDatos de socios/accionistas del establecimiento con más del 5% del capital social, aporte o participacion: table,\u001b[39;00m\n\u001b[1;32m     67\u001b[0m \u001b[38;5;124;03mDeclaro que: No X}\u001b[39;00m\n\u001b[1;32m     68\u001b[0m \u001b[38;5;124;03mjust complete it, dont add any extra information nor expanations\u001b[39;00m\n\u001b[1;32m     69\u001b[0m \u001b[38;5;124;03mto your answer. Write dates in 'dd/mm/yyyy' format\"\"\"\u001b[39;00m,\n\u001b[1;32m     70\u001b[0m     image_blob  \u001b[38;5;66;03m# Use the formatted blob/dict\u001b[39;00m\n\u001b[1;32m     71\u001b[0m ])\n",
      "File \u001b[0;32m~/miniconda3/envs/AI/lib/python3.13/site-packages/google/generativeai/generative_models.py:331\u001b[0m, in \u001b[0;36mGenerativeModel.generate_content\u001b[0;34m(self, contents, generation_config, safety_settings, stream, tools, tool_config, request_options)\u001b[0m\n\u001b[1;32m    329\u001b[0m         \u001b[38;5;28;01mreturn\u001b[39;00m generation_types\u001b[38;5;241m.\u001b[39mGenerateContentResponse\u001b[38;5;241m.\u001b[39mfrom_iterator(iterator)\n\u001b[1;32m    330\u001b[0m     \u001b[38;5;28;01melse\u001b[39;00m:\n\u001b[0;32m--> 331\u001b[0m         response \u001b[38;5;241m=\u001b[39m \u001b[38;5;28mself\u001b[39m\u001b[38;5;241m.\u001b[39m_client\u001b[38;5;241m.\u001b[39mgenerate_content(\n\u001b[1;32m    332\u001b[0m             request,\n\u001b[1;32m    333\u001b[0m             \u001b[38;5;241m*\u001b[39m\u001b[38;5;241m*\u001b[39mrequest_options,\n\u001b[1;32m    334\u001b[0m         )\n\u001b[1;32m    335\u001b[0m         \u001b[38;5;28;01mreturn\u001b[39;00m generation_types\u001b[38;5;241m.\u001b[39mGenerateContentResponse\u001b[38;5;241m.\u001b[39mfrom_response(response)\n\u001b[1;32m    336\u001b[0m \u001b[38;5;28;01mexcept\u001b[39;00m google\u001b[38;5;241m.\u001b[39mapi_core\u001b[38;5;241m.\u001b[39mexceptions\u001b[38;5;241m.\u001b[39mInvalidArgument \u001b[38;5;28;01mas\u001b[39;00m e:\n",
      "File \u001b[0;32m~/miniconda3/envs/AI/lib/python3.13/site-packages/google/ai/generativelanguage_v1beta/services/generative_service/client.py:835\u001b[0m, in \u001b[0;36mGenerativeServiceClient.generate_content\u001b[0;34m(self, request, model, contents, retry, timeout, metadata)\u001b[0m\n\u001b[1;32m    832\u001b[0m \u001b[38;5;28mself\u001b[39m\u001b[38;5;241m.\u001b[39m_validate_universe_domain()\n\u001b[1;32m    834\u001b[0m \u001b[38;5;66;03m# Send the request.\u001b[39;00m\n\u001b[0;32m--> 835\u001b[0m response \u001b[38;5;241m=\u001b[39m rpc(\n\u001b[1;32m    836\u001b[0m     request,\n\u001b[1;32m    837\u001b[0m     retry\u001b[38;5;241m=\u001b[39mretry,\n\u001b[1;32m    838\u001b[0m     timeout\u001b[38;5;241m=\u001b[39mtimeout,\n\u001b[1;32m    839\u001b[0m     metadata\u001b[38;5;241m=\u001b[39mmetadata,\n\u001b[1;32m    840\u001b[0m )\n\u001b[1;32m    842\u001b[0m \u001b[38;5;66;03m# Done; return the response.\u001b[39;00m\n\u001b[1;32m    843\u001b[0m \u001b[38;5;28;01mreturn\u001b[39;00m response\n",
      "File \u001b[0;32m~/miniconda3/envs/AI/lib/python3.13/site-packages/google/api_core/gapic_v1/method.py:131\u001b[0m, in \u001b[0;36m_GapicCallable.__call__\u001b[0;34m(self, timeout, retry, compression, *args, **kwargs)\u001b[0m\n\u001b[1;32m    128\u001b[0m \u001b[38;5;28;01mif\u001b[39;00m \u001b[38;5;28mself\u001b[39m\u001b[38;5;241m.\u001b[39m_compression \u001b[38;5;129;01mis\u001b[39;00m \u001b[38;5;129;01mnot\u001b[39;00m \u001b[38;5;28;01mNone\u001b[39;00m:\n\u001b[1;32m    129\u001b[0m     kwargs[\u001b[38;5;124m\"\u001b[39m\u001b[38;5;124mcompression\u001b[39m\u001b[38;5;124m\"\u001b[39m] \u001b[38;5;241m=\u001b[39m compression\n\u001b[0;32m--> 131\u001b[0m \u001b[38;5;28;01mreturn\u001b[39;00m wrapped_func(\u001b[38;5;241m*\u001b[39margs, \u001b[38;5;241m*\u001b[39m\u001b[38;5;241m*\u001b[39mkwargs)\n",
      "File \u001b[0;32m~/miniconda3/envs/AI/lib/python3.13/site-packages/google/api_core/retry/retry_unary.py:293\u001b[0m, in \u001b[0;36mRetry.__call__.<locals>.retry_wrapped_func\u001b[0;34m(*args, **kwargs)\u001b[0m\n\u001b[1;32m    289\u001b[0m target \u001b[38;5;241m=\u001b[39m functools\u001b[38;5;241m.\u001b[39mpartial(func, \u001b[38;5;241m*\u001b[39margs, \u001b[38;5;241m*\u001b[39m\u001b[38;5;241m*\u001b[39mkwargs)\n\u001b[1;32m    290\u001b[0m sleep_generator \u001b[38;5;241m=\u001b[39m exponential_sleep_generator(\n\u001b[1;32m    291\u001b[0m     \u001b[38;5;28mself\u001b[39m\u001b[38;5;241m.\u001b[39m_initial, \u001b[38;5;28mself\u001b[39m\u001b[38;5;241m.\u001b[39m_maximum, multiplier\u001b[38;5;241m=\u001b[39m\u001b[38;5;28mself\u001b[39m\u001b[38;5;241m.\u001b[39m_multiplier\n\u001b[1;32m    292\u001b[0m )\n\u001b[0;32m--> 293\u001b[0m \u001b[38;5;28;01mreturn\u001b[39;00m retry_target(\n\u001b[1;32m    294\u001b[0m     target,\n\u001b[1;32m    295\u001b[0m     \u001b[38;5;28mself\u001b[39m\u001b[38;5;241m.\u001b[39m_predicate,\n\u001b[1;32m    296\u001b[0m     sleep_generator,\n\u001b[1;32m    297\u001b[0m     timeout\u001b[38;5;241m=\u001b[39m\u001b[38;5;28mself\u001b[39m\u001b[38;5;241m.\u001b[39m_timeout,\n\u001b[1;32m    298\u001b[0m     on_error\u001b[38;5;241m=\u001b[39mon_error,\n\u001b[1;32m    299\u001b[0m )\n",
      "File \u001b[0;32m~/miniconda3/envs/AI/lib/python3.13/site-packages/google/api_core/retry/retry_unary.py:153\u001b[0m, in \u001b[0;36mretry_target\u001b[0;34m(target, predicate, sleep_generator, timeout, on_error, exception_factory, **kwargs)\u001b[0m\n\u001b[1;32m    149\u001b[0m \u001b[38;5;66;03m# pylint: disable=broad-except\u001b[39;00m\n\u001b[1;32m    150\u001b[0m \u001b[38;5;66;03m# This function explicitly must deal with broad exceptions.\u001b[39;00m\n\u001b[1;32m    151\u001b[0m \u001b[38;5;28;01mexcept\u001b[39;00m \u001b[38;5;167;01mException\u001b[39;00m \u001b[38;5;28;01mas\u001b[39;00m exc:\n\u001b[1;32m    152\u001b[0m     \u001b[38;5;66;03m# defer to shared logic for handling errors\u001b[39;00m\n\u001b[0;32m--> 153\u001b[0m     _retry_error_helper(\n\u001b[1;32m    154\u001b[0m         exc,\n\u001b[1;32m    155\u001b[0m         deadline,\n\u001b[1;32m    156\u001b[0m         sleep,\n\u001b[1;32m    157\u001b[0m         error_list,\n\u001b[1;32m    158\u001b[0m         predicate,\n\u001b[1;32m    159\u001b[0m         on_error,\n\u001b[1;32m    160\u001b[0m         exception_factory,\n\u001b[1;32m    161\u001b[0m         timeout,\n\u001b[1;32m    162\u001b[0m     )\n\u001b[1;32m    163\u001b[0m     \u001b[38;5;66;03m# if exception not raised, sleep before next attempt\u001b[39;00m\n\u001b[1;32m    164\u001b[0m     time\u001b[38;5;241m.\u001b[39msleep(sleep)\n",
      "File \u001b[0;32m~/miniconda3/envs/AI/lib/python3.13/site-packages/google/api_core/retry/retry_base.py:212\u001b[0m, in \u001b[0;36m_retry_error_helper\u001b[0;34m(exc, deadline, next_sleep, error_list, predicate_fn, on_error_fn, exc_factory_fn, original_timeout)\u001b[0m\n\u001b[1;32m    206\u001b[0m \u001b[38;5;28;01mif\u001b[39;00m \u001b[38;5;129;01mnot\u001b[39;00m predicate_fn(exc):\n\u001b[1;32m    207\u001b[0m     final_exc, source_exc \u001b[38;5;241m=\u001b[39m exc_factory_fn(\n\u001b[1;32m    208\u001b[0m         error_list,\n\u001b[1;32m    209\u001b[0m         RetryFailureReason\u001b[38;5;241m.\u001b[39mNON_RETRYABLE_ERROR,\n\u001b[1;32m    210\u001b[0m         original_timeout,\n\u001b[1;32m    211\u001b[0m     )\n\u001b[0;32m--> 212\u001b[0m     \u001b[38;5;28;01mraise\u001b[39;00m final_exc \u001b[38;5;28;01mfrom\u001b[39;00m \u001b[38;5;21;01msource_exc\u001b[39;00m\n\u001b[1;32m    213\u001b[0m \u001b[38;5;28;01mif\u001b[39;00m on_error_fn \u001b[38;5;129;01mis\u001b[39;00m \u001b[38;5;129;01mnot\u001b[39;00m \u001b[38;5;28;01mNone\u001b[39;00m:\n\u001b[1;32m    214\u001b[0m     on_error_fn(exc)\n",
      "File \u001b[0;32m~/miniconda3/envs/AI/lib/python3.13/site-packages/google/api_core/retry/retry_unary.py:144\u001b[0m, in \u001b[0;36mretry_target\u001b[0;34m(target, predicate, sleep_generator, timeout, on_error, exception_factory, **kwargs)\u001b[0m\n\u001b[1;32m    142\u001b[0m \u001b[38;5;28;01mfor\u001b[39;00m sleep \u001b[38;5;129;01min\u001b[39;00m sleep_generator:\n\u001b[1;32m    143\u001b[0m     \u001b[38;5;28;01mtry\u001b[39;00m:\n\u001b[0;32m--> 144\u001b[0m         result \u001b[38;5;241m=\u001b[39m target()\n\u001b[1;32m    145\u001b[0m         \u001b[38;5;28;01mif\u001b[39;00m inspect\u001b[38;5;241m.\u001b[39misawaitable(result):\n\u001b[1;32m    146\u001b[0m             warnings\u001b[38;5;241m.\u001b[39mwarn(_ASYNC_RETRY_WARNING)\n",
      "File \u001b[0;32m~/miniconda3/envs/AI/lib/python3.13/site-packages/google/api_core/timeout.py:130\u001b[0m, in \u001b[0;36mTimeToDeadlineTimeout.__call__.<locals>.func_with_timeout\u001b[0;34m(*args, **kwargs)\u001b[0m\n\u001b[1;32m    126\u001b[0m         remaining_timeout \u001b[38;5;241m=\u001b[39m \u001b[38;5;28mself\u001b[39m\u001b[38;5;241m.\u001b[39m_timeout\n\u001b[1;32m    128\u001b[0m     kwargs[\u001b[38;5;124m\"\u001b[39m\u001b[38;5;124mtimeout\u001b[39m\u001b[38;5;124m\"\u001b[39m] \u001b[38;5;241m=\u001b[39m remaining_timeout\n\u001b[0;32m--> 130\u001b[0m \u001b[38;5;28;01mreturn\u001b[39;00m func(\u001b[38;5;241m*\u001b[39margs, \u001b[38;5;241m*\u001b[39m\u001b[38;5;241m*\u001b[39mkwargs)\n",
      "File \u001b[0;32m~/miniconda3/envs/AI/lib/python3.13/site-packages/google/api_core/grpc_helpers.py:78\u001b[0m, in \u001b[0;36m_wrap_unary_errors.<locals>.error_remapped_callable\u001b[0;34m(*args, **kwargs)\u001b[0m\n\u001b[1;32m     76\u001b[0m     \u001b[38;5;28;01mreturn\u001b[39;00m callable_(\u001b[38;5;241m*\u001b[39margs, \u001b[38;5;241m*\u001b[39m\u001b[38;5;241m*\u001b[39mkwargs)\n\u001b[1;32m     77\u001b[0m \u001b[38;5;28;01mexcept\u001b[39;00m grpc\u001b[38;5;241m.\u001b[39mRpcError \u001b[38;5;28;01mas\u001b[39;00m exc:\n\u001b[0;32m---> 78\u001b[0m     \u001b[38;5;28;01mraise\u001b[39;00m exceptions\u001b[38;5;241m.\u001b[39mfrom_grpc_error(exc) \u001b[38;5;28;01mfrom\u001b[39;00m \u001b[38;5;21;01mexc\u001b[39;00m\n",
      "\u001b[0;31mInvalidArgument\u001b[0m: 400 API key not valid. Please pass a valid API key. [reason: \"API_KEY_INVALID\"\ndomain: \"googleapis.com\"\nmetadata {\n  key: \"service\"\n  value: \"generativelanguage.googleapis.com\"\n}\n, locale: \"en-US\"\nmessage: \"API key not valid. Please pass a valid API key.\"\n]"
     ]
    }
   ],
   "source": [
    "# Load image with PIL\n",
    "pil_image = Image.open(\"image(1).png\")\n",
    "\n",
    "# Convert PIL image to bytes\n",
    "img_byte_arr = io.BytesIO()\n",
    "pil_image.save(img_byte_arr, format='JPEG')  # Or 'PNG' for PNG images\n",
    "img_bytes = img_byte_arr.getvalue()\n",
    "\n",
    "# Method 1: Create a Blob-like dictionary\n",
    "image_blob = {\n",
    "    \"mime_type\": \"image/jpeg\",  # Change to \"image/png\" for PNG\n",
    "    \"data\": img_bytes\n",
    "}\n",
    "\n",
    "\n",
    "response = model.generate_content([\n",
    "    \"\"\"Extract the information from the image and complete this python dictionary\n",
    "{Ciudad de radicación: str,\n",
    "Fecha de diligenciamiento: date,\n",
    "Tipo de solicitud: str,\n",
    "\n",
    "Número de radicación (Diners club): int,\n",
    "Número de radicación (Visa): int,\n",
    "Número de radicación (MasterCard): int,\n",
    "Razón social: str,\n",
    "Nombre comercial: str,\n",
    "Número de matricula y/o Registro mercantil: int,\n",
    "Nombre de actividad comercial: str,\n",
    "NIT: int,\n",
    "DV: int,\n",
    "Código CIIU: int,\n",
    "MCC REAL: int,\n",
    "Código Único int,\n",
    "Tipo de venta: str,\n",
    "Responsabilidades tributarias: table,\n",
    "Dirección punto de venta del establecimiento: str,\n",
    "Departamento: str,\n",
    "Ciudad: str,\n",
    "Teléfono punto de venta: int,\n",
    "Dirección de correspondencia: str,\n",
    "Departamento: str,\n",
    "Codigo DANE: int,\n",
    "Ciudad: str,\n",
    "Correo electrónico: str,\n",
    "Celular: int,\n",
    "Tipo de empresa/Clase de empresa/Tipo de sociedad: str,\n",
    "Naturaleza: str,\n",
    "Tipo de afiliación: str,\n",
    "Tipo de establecimiento: str,\n",
    "Afiliado a otros sistemas: str,\n",
    "Pasarela de pagos: str,\n",
    "Comercio agregado: str,\n",
    "Nombres: str,\n",
    "Primer apellido: str,\n",
    "Segundo apellido: str,\n",
    "Número: int,\n",
    "Fecha de nacimiento: date,\n",
    "Fecha de expedición ID: date,\n",
    "Sexo: str,\n",
    "Dirección residencia: str,\n",
    "Departamento: str,\n",
    "Ciudad: str,\n",
    "Correo electrónico: str,\n",
    "Celular: int,\n",
    "Declaro que: str,\n",
    "Datos de socios/accionistas del establecimiento con más del 5% del capital social, aporte o participacion: table,\n",
    "Declaro que: No X}\n",
    "just complete it, dont add any extra information nor expanations\n",
    "to your answer. Write dates in 'dd/mm/yyyy' format\"\"\",\n",
    "    image_blob  # Use the formatted blob/dict\n",
    "])"
   ]
  },
  {
   "cell_type": "code",
   "execution_count": null,
   "metadata": {},
   "outputs": [
    {
     "name": "stdout",
     "output_type": "stream",
     "text": [
      "```json\n",
      "{\n",
      "\"Ciudad de radicación\": \"Neiva\",\n",
      "\"Fecha de diligenciamiento\": \"14/03/2018\",\n",
      "\"Tipo de solicitud\": \"Afiliación\",\n",
      "\"Número de radicación (Diners club)\": 851163,\n",
      "\"Número de radicación (Visa)\": 110384456,\n",
      "\"Número de radicación (MasterCard)\": 1195739,\n",
      "\"Razón social\": \"Carlos Andres serrato Avendaño\",\n",
      "\"Nombre comercial\": \"La Pañalera\",\n",
      "\"Número de matricula y/o Registro mercantil\": 318009,\n",
      "\"Nombre de actividad comercial\": \"Alm por departamento\",\n",
      "\"NIT\": 1075308505,\n",
      "\"DV\": 5,\n",
      "\"Código CIIU\": 4719,\n",
      "\"MCC REAL\": 5311,\n",
      "\"Código Único\": 16552598,\n",
      "\"Tipo de venta\": \"Presencial\",\n",
      "\"Responsabilidades tributarias\": \"1, 2\",\n",
      "\"Dirección punto de venta del establecimiento\": \"cll. 24 45-114\",\n",
      "\"Departamento\": \"Huila\",\n",
      "\"Ciudad\": \"Neiva\",\n",
      "\"Teléfono punto de venta\": 3132821624,\n",
      "\"Dirección de correspondencia\": \"cll. 24 45-114\",\n",
      "\"Departamento\": \"Huila\",\n",
      "\"Codigo DANE\": 41001,\n",
      "\"Ciudad\": \"Neiva\",\n",
      "\"Correo electrónico\": \"cpag1@hotmail.com\",\n",
      "\"Celular\": 3132821624,\n",
      "\"Tipo de empresa/Clase de empresa/Tipo de sociedad\": \"Mixta\",\n",
      "\"Naturaleza\": \"Natural\",\n",
      "\"Tipo de afiliación\": \"Permanente\",\n",
      "\"Tipo de establecimiento\": \"Principal\",\n",
      "\"Afiliado a otros sistemas\": \"No\",\n",
      "\"Pasarela de pagos\": \"No\",\n",
      "\"Comercio agregado\": \"No\",\n",
      "\"Nombres\": \"Carlos Andres\",\n",
      "\"Primer apellido\": \"Serrato\",\n",
      "\"Segundo apellido\": \"Avendaño\",\n",
      "\"Número\": 1075308805,\n",
      "\"Fecha de nacimiento\": \"25/12/1979\",\n",
      "\"Fecha de expedición ID\": \"01/01/2006\",\n",
      "\"Sexo\": \"M\",\n",
      "\"Dirección residencia\": \"cll. 24 45-114\",\n",
      "\"Departamento\": \"Huila\",\n",
      "\"Ciudad\": \"Bogota DC\",\n",
      "\"Correo electrónico\": \"cpag1@hotmail.com\",\n",
      "\"Celular\": 3132821624,\n",
      "\"Declaro que\": \"No\",\n",
      "\"Datos de socios/accionistas del establecimiento con más del 5% del capital social, aporte o participacion\": \"Carlos Andres serrato Avendaño, cc 1075.308.505 100%\",\n",
      "\"Declaro que\": \"No\"\n",
      "}\n",
      "```\n"
     ]
    }
   ],
   "source": [
    "print(response.text)"
   ]
  },
  {
   "cell_type": "code",
   "execution_count": null,
   "metadata": {},
   "outputs": [],
   "source": [
    "text = response.text"
   ]
  },
  {
   "cell_type": "code",
   "execution_count": null,
   "metadata": {},
   "outputs": [],
   "source": [
    "exec('info={}'.format(str(text[text.find('{'):text.find('}')+1])))"
   ]
  },
  {
   "cell_type": "code",
   "execution_count": null,
   "metadata": {},
   "outputs": [
    {
     "data": {
      "text/plain": [
       "{'Ciudad de radicación': 'Neiva',\n",
       " 'Fecha de diligenciamiento': '14/03/2018',\n",
       " 'Tipo de solicitud': 'Afiliación',\n",
       " 'Número de radicación (Diners club)': 851163,\n",
       " 'Número de radicación (Visa)': 110384456,\n",
       " 'Número de radicación (MasterCard)': 1195739,\n",
       " 'Razón social': 'Carlos Andres serrato Avendaño',\n",
       " 'Nombre comercial': 'La Pañalera',\n",
       " 'Número de matricula y/o Registro mercantil': 318009,\n",
       " 'Nombre de actividad comercial': 'Alm por departamento',\n",
       " 'NIT': 1075308505,\n",
       " 'DV': 5,\n",
       " 'Código CIIU': 4719,\n",
       " 'MCC REAL': 5311,\n",
       " 'Código Único': 16552598,\n",
       " 'Tipo de venta': 'Presencial',\n",
       " 'Responsabilidades tributarias': '1, 2',\n",
       " 'Dirección punto de venta del establecimiento': 'cll. 24 45-114',\n",
       " 'Departamento': 'Huila',\n",
       " 'Ciudad': 'Bogota DC',\n",
       " 'Teléfono punto de venta': 3132821624,\n",
       " 'Dirección de correspondencia': 'cll. 24 45-114',\n",
       " 'Codigo DANE': 41001,\n",
       " 'Correo electrónico': 'cpag1@hotmail.com',\n",
       " 'Celular': 3132821624,\n",
       " 'Tipo de empresa/Clase de empresa/Tipo de sociedad': 'Mixta',\n",
       " 'Naturaleza': 'Natural',\n",
       " 'Tipo de afiliación': 'Permanente',\n",
       " 'Tipo de establecimiento': 'Principal',\n",
       " 'Afiliado a otros sistemas': 'No',\n",
       " 'Pasarela de pagos': 'No',\n",
       " 'Comercio agregado': 'No',\n",
       " 'Nombres': 'Carlos Andres',\n",
       " 'Primer apellido': 'Serrato',\n",
       " 'Segundo apellido': 'Avendaño',\n",
       " 'Número': 1075308805,\n",
       " 'Fecha de nacimiento': '25/12/1979',\n",
       " 'Fecha de expedición ID': '01/01/2006',\n",
       " 'Sexo': 'M',\n",
       " 'Dirección residencia': 'cll. 24 45-114',\n",
       " 'Declaro que': 'No',\n",
       " 'Datos de socios/accionistas del establecimiento con más del 5% del capital social, aporte o participacion': 'Carlos Andres serrato Avendaño, cc 1075.308.505 100%'}"
      ]
     },
     "execution_count": 7,
     "metadata": {},
     "output_type": "execute_result"
    }
   ],
   "source": [
    "info"
   ]
  },
  {
   "cell_type": "code",
   "execution_count": null,
   "metadata": {},
   "outputs": [
    {
     "data": {
      "text/plain": [
       "'Carlos Andres serrato Avendaño, cc 1075.308.505 100%'"
      ]
     },
     "execution_count": 8,
     "metadata": {},
     "output_type": "execute_result"
    }
   ],
   "source": [
    "info['Datos de socios/accionistas del establecimiento con más del 5% del capital social, aporte o participacion']"
   ]
  },
  {
   "cell_type": "code",
   "execution_count": null,
   "metadata": {},
   "outputs": [],
   "source": []
  }
 ],
 "metadata": {
  "kernelspec": {
   "display_name": "AI",
   "language": "python",
   "name": "python3"
  },
  "language_info": {
   "codemirror_mode": {
    "name": "ipython",
    "version": 3
   },
   "file_extension": ".py",
   "mimetype": "text/x-python",
   "name": "python",
   "nbconvert_exporter": "python",
   "pygments_lexer": "ipython3",
   "version": "3.13.2"
  }
 },
 "nbformat": 4,
 "nbformat_minor": 2
}
