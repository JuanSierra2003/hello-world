{
 "cells": [
  {
   "cell_type": "code",
   "execution_count": 2,
   "metadata": {},
   "outputs": [],
   "source": [
    "import numpy as np\n",
    "import pandas as pd\n",
    "from matplotlib import pyplot as plt"
   ]
  },
  {
   "cell_type": "code",
   "execution_count": 3,
   "metadata": {},
   "outputs": [
    {
     "data": {
      "text/html": [
       "<div>\n",
       "<style scoped>\n",
       "    .dataframe tbody tr th:only-of-type {\n",
       "        vertical-align: middle;\n",
       "    }\n",
       "\n",
       "    .dataframe tbody tr th {\n",
       "        vertical-align: top;\n",
       "    }\n",
       "\n",
       "    .dataframe thead th {\n",
       "        text-align: right;\n",
       "    }\n",
       "</style>\n",
       "<table border=\"1\" class=\"dataframe\">\n",
       "  <thead>\n",
       "    <tr style=\"text-align: right;\">\n",
       "      <th></th>\n",
       "      <th>mV</th>\n",
       "    </tr>\n",
       "  </thead>\n",
       "  <tbody>\n",
       "    <tr>\n",
       "      <th>0</th>\n",
       "      <td>7521.2</td>\n",
       "    </tr>\n",
       "    <tr>\n",
       "      <th>1</th>\n",
       "      <td>7556.1</td>\n",
       "    </tr>\n",
       "    <tr>\n",
       "      <th>2</th>\n",
       "      <td>7478.0</td>\n",
       "    </tr>\n",
       "    <tr>\n",
       "      <th>3</th>\n",
       "      <td>7495.1</td>\n",
       "    </tr>\n",
       "    <tr>\n",
       "      <th>4</th>\n",
       "      <td>7487.3</td>\n",
       "    </tr>\n",
       "    <tr>\n",
       "      <th>...</th>\n",
       "      <td>...</td>\n",
       "    </tr>\n",
       "    <tr>\n",
       "      <th>195</th>\n",
       "      <td>7490.7</td>\n",
       "    </tr>\n",
       "    <tr>\n",
       "      <th>196</th>\n",
       "      <td>7544.2</td>\n",
       "    </tr>\n",
       "    <tr>\n",
       "      <th>197</th>\n",
       "      <td>7487.1</td>\n",
       "    </tr>\n",
       "    <tr>\n",
       "      <th>198</th>\n",
       "      <td>7455.1</td>\n",
       "    </tr>\n",
       "    <tr>\n",
       "      <th>199</th>\n",
       "      <td>7553.8</td>\n",
       "    </tr>\n",
       "  </tbody>\n",
       "</table>\n",
       "<p>200 rows × 1 columns</p>\n",
       "</div>"
      ],
      "text/plain": [
       "         mV\n",
       "0    7521.2\n",
       "1    7556.1\n",
       "2    7478.0\n",
       "3    7495.1\n",
       "4    7487.3\n",
       "..      ...\n",
       "195  7490.7\n",
       "196  7544.2\n",
       "197  7487.1\n",
       "198  7455.1\n",
       "199  7553.8\n",
       "\n",
       "[200 rows x 1 columns]"
      ]
     },
     "execution_count": 3,
     "metadata": {},
     "output_type": "execute_result"
    }
   ],
   "source": [
    "data = pd.read_csv('amplificador.dat')\n",
    "data"
   ]
  },
  {
   "cell_type": "code",
   "execution_count": 4,
   "metadata": {},
   "outputs": [],
   "source": [
    "voltages = data['mV']"
   ]
  },
  {
   "cell_type": "code",
   "execution_count": 5,
   "metadata": {},
   "outputs": [
    {
     "data": {
      "text/plain": [
       "7501.8"
      ]
     },
     "execution_count": 5,
     "metadata": {},
     "output_type": "execute_result"
    }
   ],
   "source": [
    "#Cálculo del valor medio\n",
    "voltages.mean()"
   ]
  },
  {
   "cell_type": "code",
   "execution_count": 6,
   "metadata": {},
   "outputs": [
    {
     "data": {
      "text/plain": [
       "26.810389495951405"
      ]
     },
     "execution_count": 6,
     "metadata": {},
     "output_type": "execute_result"
    }
   ],
   "source": [
    "#Cálculo de desviación estandar\n",
    "voltages.std()"
   ]
  },
  {
   "cell_type": "code",
   "execution_count": 52,
   "metadata": {},
   "outputs": [],
   "source": [
    "#Creación del histograma de frecuencias con dV=2.5mV y dV=10mV\n",
    "frequencys1, limits1 = np.histogram(voltages, bins=int((voltages.max()-voltages.min())/2.5))\n",
    "frequencys2, limits2 = np.histogram(voltages, bins=int((voltages.max()-voltages.min())/10))\n",
    "\n",
    "zero = np.array([0])\n",
    "\n",
    "frequencys1 = np.concatenate((zero, frequencys1, zero))\n",
    "limits1 = np.concatenate((limits1[0:1], limits1))\n",
    "\n",
    "frequencys2 = np.concatenate((zero, frequencys2, zero))\n",
    "limits2 = np.concatenate((limits2[0:1], limits2))"
   ]
  },
  {
   "cell_type": "code",
   "execution_count": 57,
   "metadata": {},
   "outputs": [
    {
     "data": {
      "image/png": "[encoded data removed]",
      "text/plain": [
       "<Figure size 640x480 with 2 Axes>"
      ]
     },
     "metadata": {},
     "output_type": "display_data"
    }
   ],
   "source": [
    "#Plotting\n",
    "fig = plt.figure()\n",
    "fig.supylabel('frecuencias')\n",
    "fig.supxlabel('Voltajes [mV]')\n",
    "\n",
    "ax1 = fig.add_subplot(2,1,1)\n",
    "ax1.plot(limits1, frequencys1, drawstyle='steps-post', label=r'$\\Delta V = 2.5$ mV')\n",
    "ax1.set_xticks([])\n",
    "ax1.legend()\n",
    "\n",
    "ax2 = fig.add_subplot(2,1,2)\n",
    "ax2.plot(limits2, frequencys2, drawstyle='steps-post', label=r'$\\Delta V = 10$ mV')\n",
    "ax2.set_xticks(limits2)\n",
    "ax2.tick_params(axis='x', labelrotation = -45)\n",
    "ax2.legend()\n",
    "\n",
    "fig.tight_layout()\n",
    "fig.savefig('voltage_hist.png')"
   ]
  },
  {
   "cell_type": "code",
   "execution_count": 82,
   "metadata": {},
   "outputs": [
    {
     "name": "stdout",
     "output_type": "stream",
     "text": [
      "mu_1 = 7501.772170212765 mv \n",
      "sig_1 = 26.67801024558702 mv \n",
      "mu_2 = 7501.791636363636 mv \n",
      "sig_2 = 26.770096295482723 mv\n"
     ]
    }
   ],
   "source": [
    "#Media y desviación estandar a partir de los histogramas\n",
    "Vmedio1 = (limits1[1:-1]+limits1[2:])/2\n",
    "Vmedio2 = (limits2[1:-1]+limits2[2:])/2\n",
    "\n",
    "mu1 = np.dot(frequencys1[1:-1], Vmedio1)/np.sum(frequencys1[1:-1])\n",
    "mu2 = np.dot(frequencys2[1:-1], Vmedio2)/np.sum(frequencys2[1:-1])\n",
    "\n",
    "sigma1 = np.sqrt(np.dot(frequencys1[1:-1], (Vmedio1-mu1)**2)/np.sum(frequencys1[1:-1]))\n",
    "sigma2 = np.sqrt(np.dot(frequencys2[1:-1], (Vmedio2-mu2)**2)/np.sum(frequencys2[1:-1]))\n",
    "\n",
    "print(f'mu_1 = {mu1} mv \\nsig_1 = {sigma1} mv \\nmu_2 = {mu2} mv \\nsig_2 = {sigma2} mv')"
   ]
  },
  {
   "cell_type": "code",
   "execution_count": null,
   "metadata": {},
   "outputs": [],
   "source": []
  },
  {
   "cell_type": "code",
   "execution_count": null,
   "metadata": {},
   "outputs": [],
   "source": []
  }
 ],
 "metadata": {
  "kernelspec": {
   "display_name": "base",
   "language": "python",
   "name": "python3"
  },
  "language_info": {
   "codemirror_mode": {
    "name": "ipython",
    "version": 3
   },
   "file_extension": ".py",
   "mimetype": "text/x-python",
   "name": "python",
   "nbconvert_exporter": "python",
   "pygments_lexer": "ipython3",
   "version": "3.12.2"
  }
 },
 "nbformat": 4,
 "nbformat_minor": 2
}
