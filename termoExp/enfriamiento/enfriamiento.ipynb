{
 "cells": [
  {
   "cell_type": "code",
   "execution_count": null,
   "id": "d6d245b9",
   "metadata": {},
   "outputs": [],
   "source": [
    "import numpy as np\n",
    "import matplotlib.pyplot as plt\n",
    "import pandas as pd\n",
    "from getData import *"
   ]
  },
  {
   "cell_type": "code",
   "execution_count": null,
   "id": "de37003c",
   "metadata": {},
   "outputs": [],
   "source": [
    "frames, indices = extract_frames_from_video('(3.) IMG_0177.MOV', (np.logspace(0, 1, 100)-1)/9)\n",
    "frames = list(map(lambda image: resize_image(image, .2), frames))"
   ]
  },
  {
   "cell_type": "code",
   "execution_count": 2,
   "id": "62cd1692",
   "metadata": {},
   "outputs": [],
   "source": [
    "prompt = \"\"\"'Extrae este número en formato float de python, devuelve únicamente el \n",
    "número con el formato: \"float\" y sin ningún otro texto.'\"\"\""
   ]
  },
  {
   "cell_type": "code",
   "execution_count": 3,
   "id": "f8f4b59b",
   "metadata": {},
   "outputs": [],
   "source": [
    "def get_gemini_response(frames, prompt):\n",
    "    \"\"\"\n",
    "    Sends a list of frames to Gemini and retrieves the float responses. \n",
    "    Args:\n",
    "        frames (list): List of image frames.\n",
    "        prompt (str): The prompt to send to Gemini.\n",
    "    Returns:\n",
    "        np.ndarray: Array of float responses from Gemini.\n",
    "    \"\"\"\n",
    "    temp = np.zeros(len(frames), dtype=np.float32)\n",
    "    for ii, frame in enumerate(frames):\n",
    "        while True:\n",
    "            try:\n",
    "                temp[ii] = float(send_image_to_gemini(frame, prompt))\n",
    "                break\n",
    "            except Exception as e:\n",
    "                print(f\"Error readying image {ii}: {e}\")\n",
    "                continue\n",
    "    return temp"
   ]
  },
  {
   "cell_type": "code",
   "execution_count": null,
   "id": "0dde037d",
   "metadata": {},
   "outputs": [],
   "source": [
    "get_gemini_response(frames, prompt):"
   ]
  },
  {
   "cell_type": "code",
   "execution_count": null,
   "id": "1fd49c72",
   "metadata": {},
   "outputs": [],
   "source": [
    "plt.plot(np.array(indices[13:-1])/30, temp[13:], 'o-')\n",
    "plt.xlabel('Tiempo (s)')\n",
    "plt.ylabel('Temperatura (°C)')"
   ]
  },
  {
   "cell_type": "code",
   "execution_count": null,
   "id": "b7670dc4",
   "metadata": {},
   "outputs": [],
   "source": [
    "def func(t, T_0, T_inf, tau):\n",
    "    return T_inf + (T_0 - T_inf) * np.exp(- t / tau)\n",
    "\n",
    "from scipy.optimize import curve_fit"
   ]
  },
  {
   "cell_type": "code",
   "execution_count": null,
   "id": "cd2610d3",
   "metadata": {},
   "outputs": [],
   "source": [
    "args, covs = curve_fit(func, np.array(indices[13:-1])/30, np.array(temp[13:]), p0=[90, 30, 1])"
   ]
  },
  {
   "cell_type": "code",
   "execution_count": null,
   "id": "b5e02607",
   "metadata": {},
   "outputs": [],
   "source": [
    "plt.plot(np.array(indices[13:-1])/30, temp[13:], 'o')\n",
    "plt.plot(np.array(indices[13:-1])/30, func(np.array(indices[13:-1])/30, *args), 'r-')\n",
    "plt.xlabel('Tiempo (s)')\n",
    "plt.ylabel('Temperatura (°C)')"
   ]
  },
  {
   "cell_type": "code",
   "execution_count": null,
   "id": "661f235c",
   "metadata": {},
   "outputs": [],
   "source": [
    "args"
   ]
  },
  {
   "cell_type": "code",
   "execution_count": 32,
   "id": "8cf45949",
   "metadata": {},
   "outputs": [
    {
     "data": {
      "text/plain": [
       "{'time_1': [],\n",
       " 'temperature_1': [],\n",
       " 'time_2': [],\n",
       " 'temperature_2': [],\n",
       " 'time_3': [],\n",
       " 'temperature_3': [],\n",
       " 'time_4': [],\n",
       " 'temperature_4': [],\n",
       " 'time_5': [],\n",
       " 'temperature_5': []}"
      ]
     },
     "execution_count": 32,
     "metadata": {},
     "output_type": "execute_result"
    }
   ],
   "source": [
    "dataFrame = {}\n",
    "for ii in range(1, 6):\n",
    "    dataFrame[f'time_{ii}'] = []\n",
    "    dataFrame[f'temperature_{ii}'] = []\n",
    "\n",
    "dataFrame"
   ]
  },
  {
   "cell_type": "code",
   "execution_count": 36,
   "id": "1d59fa65",
   "metadata": {},
   "outputs": [
    {
     "name": "stdout",
     "output_type": "stream",
     "text": [
      "\u001b[H\u001b[2JEnviando imagen a Gemini para análisis...\n",
      "Video 5 processed.\n"
     ]
    }
   ],
   "source": [
    "data = pd.DataFrame(dataFrame)\n",
    "\n",
    "# Extract frames from multiple videos and get temperature data\n",
    "for ii in range(1,6):\n",
    "    frames, indices = extract_frames_from_video(f'videos/{ii}.MOV', (np.logspace(0, 1, 100)-1)/9)\n",
    "    frames = list(map(lambda image: resize_image(image, 1), frames))\n",
    "\n",
    "    temp = get_gemini_response(frames, prompt)\n",
    "    data[f'time_{ii}'] = np.array(indices[:-1])/30\n",
    "    data[f'temperature_{ii}'] = temp\n",
    "\n",
    "    print(f\"Video {ii} processed.\")\n",
    "    "
   ]
  },
  {
   "cell_type": "code",
   "execution_count": 37,
   "id": "269bc53c",
   "metadata": {},
   "outputs": [
    {
     "data": {
      "text/html": [
       "<div>\n",
       "<style scoped>\n",
       "    .dataframe tbody tr th:only-of-type {\n",
       "        vertical-align: middle;\n",
       "    }\n",
       "\n",
       "    .dataframe tbody tr th {\n",
       "        vertical-align: top;\n",
       "    }\n",
       "\n",
       "    .dataframe thead th {\n",
       "        text-align: right;\n",
       "    }\n",
       "</style>\n",
       "<table border=\"1\" class=\"dataframe\">\n",
       "  <thead>\n",
       "    <tr style=\"text-align: right;\">\n",
       "      <th></th>\n",
       "      <th>time_1</th>\n",
       "      <th>temperature_1</th>\n",
       "      <th>time_2</th>\n",
       "      <th>temperature_2</th>\n",
       "      <th>time_3</th>\n",
       "      <th>temperature_3</th>\n",
       "      <th>time_4</th>\n",
       "      <th>temperature_4</th>\n",
       "      <th>time_5</th>\n",
       "      <th>temperature_5</th>\n",
       "    </tr>\n",
       "  </thead>\n",
       "  <tbody>\n",
       "    <tr>\n",
       "      <th>0</th>\n",
       "      <td>0.000000</td>\n",
       "      <td>80.000000</td>\n",
       "      <td>0.000000</td>\n",
       "      <td>72.599998</td>\n",
       "      <td>0.000000</td>\n",
       "      <td>79.099998</td>\n",
       "      <td>0.000000</td>\n",
       "      <td>73.900002</td>\n",
       "      <td>0.000000</td>\n",
       "      <td>30.700001</td>\n",
       "    </tr>\n",
       "    <tr>\n",
       "      <th>1</th>\n",
       "      <td>2.333333</td>\n",
       "      <td>79.800003</td>\n",
       "      <td>2.366667</td>\n",
       "      <td>70.599998</td>\n",
       "      <td>0.933333</td>\n",
       "      <td>78.699997</td>\n",
       "      <td>1.666667</td>\n",
       "      <td>73.400002</td>\n",
       "      <td>4.233333</td>\n",
       "      <td>30.799999</td>\n",
       "    </tr>\n",
       "    <tr>\n",
       "      <th>2</th>\n",
       "      <td>4.766667</td>\n",
       "      <td>79.500000</td>\n",
       "      <td>4.833333</td>\n",
       "      <td>70.599998</td>\n",
       "      <td>1.933333</td>\n",
       "      <td>78.300003</td>\n",
       "      <td>3.366667</td>\n",
       "      <td>72.900002</td>\n",
       "      <td>8.566667</td>\n",
       "      <td>30.900000</td>\n",
       "    </tr>\n",
       "    <tr>\n",
       "      <th>3</th>\n",
       "      <td>7.233333</td>\n",
       "      <td>79.199997</td>\n",
       "      <td>7.333333</td>\n",
       "      <td>71.000000</td>\n",
       "      <td>2.933333</td>\n",
       "      <td>77.900002</td>\n",
       "      <td>5.100000</td>\n",
       "      <td>72.400002</td>\n",
       "      <td>13.000000</td>\n",
       "      <td>31.000000</td>\n",
       "    </tr>\n",
       "    <tr>\n",
       "      <th>4</th>\n",
       "      <td>9.766667</td>\n",
       "      <td>78.900002</td>\n",
       "      <td>9.900000</td>\n",
       "      <td>69.800003</td>\n",
       "      <td>3.933333</td>\n",
       "      <td>77.500000</td>\n",
       "      <td>6.900000</td>\n",
       "      <td>71.800003</td>\n",
       "      <td>17.566667</td>\n",
       "      <td>31.100000</td>\n",
       "    </tr>\n",
       "  </tbody>\n",
       "</table>\n",
       "</div>"
      ],
      "text/plain": [
       "     time_1  temperature_1    time_2  temperature_2    time_3  temperature_3  \\\n",
       "0  0.000000      80.000000  0.000000      72.599998  0.000000      79.099998   \n",
       "1  2.333333      79.800003  2.366667      70.599998  0.933333      78.699997   \n",
       "2  4.766667      79.500000  4.833333      70.599998  1.933333      78.300003   \n",
       "3  7.233333      79.199997  7.333333      71.000000  2.933333      77.900002   \n",
       "4  9.766667      78.900002  9.900000      69.800003  3.933333      77.500000   \n",
       "\n",
       "     time_4  temperature_4     time_5  temperature_5  \n",
       "0  0.000000      73.900002   0.000000      30.700001  \n",
       "1  1.666667      73.400002   4.233333      30.799999  \n",
       "2  3.366667      72.900002   8.566667      30.900000  \n",
       "3  5.100000      72.400002  13.000000      31.000000  \n",
       "4  6.900000      71.800003  17.566667      31.100000  "
      ]
     },
     "execution_count": 37,
     "metadata": {},
     "output_type": "execute_result"
    }
   ],
   "source": [
    "data.head()"
   ]
  },
  {
   "cell_type": "code",
   "execution_count": 43,
   "id": "f58db255",
   "metadata": {},
   "outputs": [],
   "source": [
    "data.to_csv('enfriamiento_data.csv', index=False)"
   ]
  }
 ],
 "metadata": {
  "kernelspec": {
   "display_name": "AI",
   "language": "python",
   "name": "python3"
  },
  "language_info": {
   "codemirror_mode": {
    "name": "ipython",
    "version": 3
   },
   "file_extension": ".py",
   "mimetype": "text/x-python",
   "name": "python",
   "nbconvert_exporter": "python",
   "pygments_lexer": "ipython3",
   "version": "3.13.2"
  }
 },
 "nbformat": 4,
 "nbformat_minor": 5
}
