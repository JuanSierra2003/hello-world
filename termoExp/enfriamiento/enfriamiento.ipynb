{
 "cells": [
  {
   "cell_type": "code",
   "execution_count": 1,
   "id": "d6d245b9",
   "metadata": {},
   "outputs": [
    {
     "name": "stderr",
     "output_type": "stream",
     "text": [
      "/home/ju/miniconda3/envs/AI/lib/python3.13/site-packages/tqdm/auto.py:21: TqdmWarning: IProgress not found. Please update jupyter and ipywidgets. See https://ipywidgets.readthedocs.io/en/stable/user_install.html\n",
      "  from .autonotebook import tqdm as notebook_tqdm\n"
     ]
    }
   ],
   "source": [
    "import numpy as np\n",
    "import matplotlib.pyplot as plt\n",
    "import pandas as pd\n",
    "from getData import *"
   ]
  },
  {
   "cell_type": "code",
   "execution_count": null,
   "id": "de37003c",
   "metadata": {},
   "outputs": [],
   "source": [
    "frames, indices = extract_frames_from_video('(3.) IMG_0177.MOV', (np.logspace(0, 1, 100)-1)/9)\n",
    "frames = list(map(lambda image: resize_image(image, .2), frames))"
   ]
  },
  {
   "cell_type": "code",
   "execution_count": 2,
   "id": "62cd1692",
   "metadata": {},
   "outputs": [],
   "source": [
    "prompt = \"\"\"'Extrae este número en formato float de python, devuelve únicamente el \n",
    "número con el formato: \"float\" y sin ningún otro texto.'\"\"\""
   ]
  },
  {
   "cell_type": "code",
   "execution_count": 3,
   "id": "f8f4b59b",
   "metadata": {},
   "outputs": [],
   "source": [
    "def get_gemini_response(frames, prompt):\n",
    "    \"\"\"\n",
    "    Sends a list of frames to Gemini and retrieves the float responses. \n",
    "    Args:\n",
    "        frames (list): List of image frames.\n",
    "        prompt (str): The prompt to send to Gemini.\n",
    "    Returns:\n",
    "        np.ndarray: Array of float responses from Gemini.\n",
    "    \"\"\"\n",
    "    temp = np.zeros(len(frames), dtype=np.float32)\n",
    "    for ii, frame in enumerate(frames):\n",
    "        while True:\n",
    "            try:\n",
    "                temp[ii] = float(send_image_to_gemini(frame, prompt))\n",
    "                break\n",
    "            except Exception as e:\n",
    "                print(f\"Error readying image {ii}: {e}\")\n",
    "                continue\n",
    "    return temp"
   ]
  },
  {
   "cell_type": "code",
   "execution_count": null,
   "id": "0dde037d",
   "metadata": {},
   "outputs": [],
   "source": [
    "get_gemini_response(frames, prompt):"
   ]
  },
  {
   "cell_type": "code",
   "execution_count": null,
   "id": "1fd49c72",
   "metadata": {},
   "outputs": [],
   "source": [
    "plt.plot(np.array(indices[13:-1])/30, temp[13:], 'o-')\n",
    "plt.xlabel('Tiempo (s)')\n",
    "plt.ylabel('Temperatura (°C)')"
   ]
  },
  {
   "cell_type": "code",
   "execution_count": 6,
   "id": "b7670dc4",
   "metadata": {},
   "outputs": [],
   "source": [
    "def func(t, T_0, T_inf, tau):\n",
    "    return T_inf + (T_0 - T_inf) * np.exp(- t / tau)\n",
    "\n",
    "from scipy.optimize import curve_fit"
   ]
  },
  {
   "cell_type": "code",
   "execution_count": null,
   "id": "cd2610d3",
   "metadata": {},
   "outputs": [],
   "source": [
    "args, covs = curve_fit(func, np.array(indices[13:-1])/30, np.array(temp[13:]), p0=[90, 30, 1])"
   ]
  },
  {
   "cell_type": "code",
   "execution_count": null,
   "id": "b5e02607",
   "metadata": {},
   "outputs": [],
   "source": [
    "plt.plot(np.array(indices[13:-1])/30, temp[13:], 'o')\n",
    "plt.plot(np.array(indices[13:-1])/30, func(np.array(indices[13:-1])/30, *args), 'r-')\n",
    "plt.xlabel('Tiempo (s)')\n",
    "plt.ylabel('Temperatura (°C)')"
   ]
  },
  {
   "cell_type": "code",
   "execution_count": null,
   "id": "661f235c",
   "metadata": {},
   "outputs": [],
   "source": [
    "args"
   ]
  },
  {
   "cell_type": "code",
   "execution_count": 32,
   "id": "8cf45949",
   "metadata": {},
   "outputs": [
    {
     "data": {
      "text/plain": [
       "{'time_1': [],\n",
       " 'temperature_1': [],\n",
       " 'time_2': [],\n",
       " 'temperature_2': [],\n",
       " 'time_3': [],\n",
       " 'temperature_3': [],\n",
       " 'time_4': [],\n",
       " 'temperature_4': [],\n",
       " 'time_5': [],\n",
       " 'temperature_5': []}"
      ]
     },
     "execution_count": 32,
     "metadata": {},
     "output_type": "execute_result"
    }
   ],
   "source": [
    "dataFrame = {}\n",
    "for ii in range(1, 6):\n",
    "    dataFrame[f'time_{ii}'] = []\n",
    "    dataFrame[f'temperature_{ii}'] = []\n",
    "\n",
    "dataFrame"
   ]
  },
  {
   "cell_type": "code",
   "execution_count": 36,
   "id": "1d59fa65",
   "metadata": {},
   "outputs": [
    {
     "name": "stdout",
     "output_type": "stream",
     "text": [
      "\u001b[H\u001b[2JEnviando imagen a Gemini para análisis...\n",
      "Video 5 processed.\n"
     ]
    }
   ],
   "source": [
    "data = pd.DataFrame(dataFrame)\n",
    "\n",
    "# Extract frames from multiple videos and get temperature data\n",
    "for ii in range(1,6):\n",
    "    frames, indices = extract_frames_from_video(f'videos/{ii}.MOV', (np.logspace(0, 1, 100)-1)/9)\n",
    "    frames = list(map(lambda image: resize_image(image, 1), frames))\n",
    "\n",
    "    temp = get_gemini_response(frames, prompt)\n",
    "    data[f'time_{ii}'] = np.array(indices[:-1])/30\n",
    "    data[f'temperature_{ii}'] = temp\n",
    "\n",
    "    print(f\"Video {ii} processed.\")\n",
    "    "
   ]
  },
  {
   "cell_type": "code",
   "execution_count": 37,
   "id": "269bc53c",
   "metadata": {},
   "outputs": [
    {
     "data": {
      "text/html": [
       "<div>\n",
       "<style scoped>\n",
       "    .dataframe tbody tr th:only-of-type {\n",
       "        vertical-align: middle;\n",
       "    }\n",
       "\n",
       "    .dataframe tbody tr th {\n",
       "        vertical-align: top;\n",
       "    }\n",
       "\n",
       "    .dataframe thead th {\n",
       "        text-align: right;\n",
       "    }\n",
       "</style>\n",
       "<table border=\"1\" class=\"dataframe\">\n",
       "  <thead>\n",
       "    <tr style=\"text-align: right;\">\n",
       "      <th></th>\n",
       "      <th>time_1</th>\n",
       "      <th>temperature_1</th>\n",
       "      <th>time_2</th>\n",
       "      <th>temperature_2</th>\n",
       "      <th>time_3</th>\n",
       "      <th>temperature_3</th>\n",
       "      <th>time_4</th>\n",
       "      <th>temperature_4</th>\n",
       "      <th>time_5</th>\n",
       "      <th>temperature_5</th>\n",
       "    </tr>\n",
       "  </thead>\n",
       "  <tbody>\n",
       "    <tr>\n",
       "      <th>0</th>\n",
       "      <td>0.000000</td>\n",
       "      <td>80.000000</td>\n",
       "      <td>0.000000</td>\n",
       "      <td>72.599998</td>\n",
       "      <td>0.000000</td>\n",
       "      <td>79.099998</td>\n",
       "      <td>0.000000</td>\n",
       "      <td>73.900002</td>\n",
       "      <td>0.000000</td>\n",
       "      <td>30.700001</td>\n",
       "    </tr>\n",
       "    <tr>\n",
       "      <th>1</th>\n",
       "      <td>2.333333</td>\n",
       "      <td>79.800003</td>\n",
       "      <td>2.366667</td>\n",
       "      <td>70.599998</td>\n",
       "      <td>0.933333</td>\n",
       "      <td>78.699997</td>\n",
       "      <td>1.666667</td>\n",
       "      <td>73.400002</td>\n",
       "      <td>4.233333</td>\n",
       "      <td>30.799999</td>\n",
       "    </tr>\n",
       "    <tr>\n",
       "      <th>2</th>\n",
       "      <td>4.766667</td>\n",
       "      <td>79.500000</td>\n",
       "      <td>4.833333</td>\n",
       "      <td>70.599998</td>\n",
       "      <td>1.933333</td>\n",
       "      <td>78.300003</td>\n",
       "      <td>3.366667</td>\n",
       "      <td>72.900002</td>\n",
       "      <td>8.566667</td>\n",
       "      <td>30.900000</td>\n",
       "    </tr>\n",
       "    <tr>\n",
       "      <th>3</th>\n",
       "      <td>7.233333</td>\n",
       "      <td>79.199997</td>\n",
       "      <td>7.333333</td>\n",
       "      <td>71.000000</td>\n",
       "      <td>2.933333</td>\n",
       "      <td>77.900002</td>\n",
       "      <td>5.100000</td>\n",
       "      <td>72.400002</td>\n",
       "      <td>13.000000</td>\n",
       "      <td>31.000000</td>\n",
       "    </tr>\n",
       "    <tr>\n",
       "      <th>4</th>\n",
       "      <td>9.766667</td>\n",
       "      <td>78.900002</td>\n",
       "      <td>9.900000</td>\n",
       "      <td>69.800003</td>\n",
       "      <td>3.933333</td>\n",
       "      <td>77.500000</td>\n",
       "      <td>6.900000</td>\n",
       "      <td>71.800003</td>\n",
       "      <td>17.566667</td>\n",
       "      <td>31.100000</td>\n",
       "    </tr>\n",
       "  </tbody>\n",
       "</table>\n",
       "</div>"
      ],
      "text/plain": [
       "     time_1  temperature_1    time_2  temperature_2    time_3  temperature_3  \\\n",
       "0  0.000000      80.000000  0.000000      72.599998  0.000000      79.099998   \n",
       "1  2.333333      79.800003  2.366667      70.599998  0.933333      78.699997   \n",
       "2  4.766667      79.500000  4.833333      70.599998  1.933333      78.300003   \n",
       "3  7.233333      79.199997  7.333333      71.000000  2.933333      77.900002   \n",
       "4  9.766667      78.900002  9.900000      69.800003  3.933333      77.500000   \n",
       "\n",
       "     time_4  temperature_4     time_5  temperature_5  \n",
       "0  0.000000      73.900002   0.000000      30.700001  \n",
       "1  1.666667      73.400002   4.233333      30.799999  \n",
       "2  3.366667      72.900002   8.566667      30.900000  \n",
       "3  5.100000      72.400002  13.000000      31.000000  \n",
       "4  6.900000      71.800003  17.566667      31.100000  "
      ]
     },
     "execution_count": 37,
     "metadata": {},
     "output_type": "execute_result"
    }
   ],
   "source": [
    "data.head()"
   ]
  },
  {
   "cell_type": "code",
   "execution_count": 43,
   "id": "f58db255",
   "metadata": {},
   "outputs": [],
   "source": [
    "data.to_csv('enfriamiento_data.csv', index=False)"
   ]
  },
  {
   "cell_type": "code",
   "execution_count": 7,
   "id": "1b4d73b6",
   "metadata": {},
   "outputs": [
    {
     "data": {
      "text/html": [
       "<div>\n",
       "<style scoped>\n",
       "    .dataframe tbody tr th:only-of-type {\n",
       "        vertical-align: middle;\n",
       "    }\n",
       "\n",
       "    .dataframe tbody tr th {\n",
       "        vertical-align: top;\n",
       "    }\n",
       "\n",
       "    .dataframe thead th {\n",
       "        text-align: right;\n",
       "    }\n",
       "</style>\n",
       "<table border=\"1\" class=\"dataframe\">\n",
       "  <thead>\n",
       "    <tr style=\"text-align: right;\">\n",
       "      <th></th>\n",
       "      <th>time_1</th>\n",
       "      <th>temperature_1</th>\n",
       "      <th>time_2</th>\n",
       "      <th>temperature_2</th>\n",
       "      <th>time_3</th>\n",
       "      <th>temperature_3</th>\n",
       "      <th>time_4</th>\n",
       "      <th>temperature_4</th>\n",
       "      <th>time_5</th>\n",
       "      <th>temperature_5</th>\n",
       "    </tr>\n",
       "  </thead>\n",
       "  <tbody>\n",
       "    <tr>\n",
       "      <th>0</th>\n",
       "      <td>0.000000</td>\n",
       "      <td>80.0</td>\n",
       "      <td>0.000000</td>\n",
       "      <td>72.6</td>\n",
       "      <td>0.000000</td>\n",
       "      <td>79.1</td>\n",
       "      <td>0.000000</td>\n",
       "      <td>73.9</td>\n",
       "      <td>0.000000</td>\n",
       "      <td>30.7</td>\n",
       "    </tr>\n",
       "    <tr>\n",
       "      <th>1</th>\n",
       "      <td>2.333333</td>\n",
       "      <td>79.8</td>\n",
       "      <td>2.366667</td>\n",
       "      <td>70.6</td>\n",
       "      <td>0.933333</td>\n",
       "      <td>78.7</td>\n",
       "      <td>1.666667</td>\n",
       "      <td>73.4</td>\n",
       "      <td>4.233333</td>\n",
       "      <td>30.8</td>\n",
       "    </tr>\n",
       "    <tr>\n",
       "      <th>2</th>\n",
       "      <td>4.766667</td>\n",
       "      <td>79.5</td>\n",
       "      <td>4.833333</td>\n",
       "      <td>70.6</td>\n",
       "      <td>1.933333</td>\n",
       "      <td>78.3</td>\n",
       "      <td>3.366667</td>\n",
       "      <td>72.9</td>\n",
       "      <td>8.566667</td>\n",
       "      <td>30.9</td>\n",
       "    </tr>\n",
       "    <tr>\n",
       "      <th>3</th>\n",
       "      <td>7.233333</td>\n",
       "      <td>79.2</td>\n",
       "      <td>7.333333</td>\n",
       "      <td>71.0</td>\n",
       "      <td>2.933333</td>\n",
       "      <td>77.9</td>\n",
       "      <td>5.100000</td>\n",
       "      <td>72.4</td>\n",
       "      <td>13.000000</td>\n",
       "      <td>31.0</td>\n",
       "    </tr>\n",
       "    <tr>\n",
       "      <th>4</th>\n",
       "      <td>9.766667</td>\n",
       "      <td>78.9</td>\n",
       "      <td>9.900000</td>\n",
       "      <td>69.8</td>\n",
       "      <td>3.933333</td>\n",
       "      <td>77.5</td>\n",
       "      <td>6.900000</td>\n",
       "      <td>71.8</td>\n",
       "      <td>17.566667</td>\n",
       "      <td>31.1</td>\n",
       "    </tr>\n",
       "  </tbody>\n",
       "</table>\n",
       "</div>"
      ],
      "text/plain": [
       "     time_1  temperature_1    time_2  temperature_2    time_3  temperature_3  \\\n",
       "0  0.000000           80.0  0.000000           72.6  0.000000           79.1   \n",
       "1  2.333333           79.8  2.366667           70.6  0.933333           78.7   \n",
       "2  4.766667           79.5  4.833333           70.6  1.933333           78.3   \n",
       "3  7.233333           79.2  7.333333           71.0  2.933333           77.9   \n",
       "4  9.766667           78.9  9.900000           69.8  3.933333           77.5   \n",
       "\n",
       "     time_4  temperature_4     time_5  temperature_5  \n",
       "0  0.000000           73.9   0.000000           30.7  \n",
       "1  1.666667           73.4   4.233333           30.8  \n",
       "2  3.366667           72.9   8.566667           30.9  \n",
       "3  5.100000           72.4  13.000000           31.0  \n",
       "4  6.900000           71.8  17.566667           31.1  "
      ]
     },
     "execution_count": 7,
     "metadata": {},
     "output_type": "execute_result"
    }
   ],
   "source": [
    "data = pd.read_csv('enfriamiento_data.csv')\n",
    "data.head()"
   ]
  },
  {
   "cell_type": "code",
   "execution_count": 8,
   "id": "ef2347f1",
   "metadata": {},
   "outputs": [],
   "source": [
    "func_1 = lambda t, T_0, tau: func(t, T_0, 22, tau)"
   ]
  },
  {
   "cell_type": "code",
   "execution_count": 9,
   "id": "fd3cd3d1",
   "metadata": {},
   "outputs": [],
   "source": [
    "tau = []"
   ]
  },
  {
   "cell_type": "code",
   "execution_count": 10,
   "id": "cb3aad3a",
   "metadata": {},
   "outputs": [
    {
     "data": {
      "image/png": "[encoded data removed]",
      "text/plain": [
       "<Figure size 640x480 with 1 Axes>"
      ]
     },
     "metadata": {},
     "output_type": "display_data"
    }
   ],
   "source": [
    "for ii in range(1, 5):\n",
    "    args, covs = curve_fit(func_1, data[f'time_{ii}'], data[f'temperature_{ii}'], p0=[90, 1])\n",
    "    plt.plot(data[f'time_{ii}'], data[f'temperature_{ii}'], 'o', label=f'Video {ii}')\n",
    "    plt.plot(data[f'time_{ii}'], func_1(data[f'time_{ii}'], *args), '-', label=f'Fit Video {ii}')\n",
    "    tau.append(args[1])"
   ]
  },
  {
   "cell_type": "markdown",
   "id": "7e7f23e3",
   "metadata": {},
   "source": [
    "## Calentamiento con disipación"
   ]
  },
  {
   "cell_type": "code",
   "execution_count": 11,
   "id": "75f1aa15",
   "metadata": {},
   "outputs": [],
   "source": [
    "tex_fonts = {\n",
    "    # Use LaTeX to write all text\n",
    "    \"text.usetex\": True,\n",
    "    \"font.family\": \"serif\",\n",
    "    # Use 10pt font in plots, to match 10pt font in document\n",
    "    \"axes.labelsize\": 8,\n",
    "    \"font.size\": 8,\n",
    "    # Make the legend/label fonts a little smaller\n",
    "    \"legend.fontsize\": 7,\n",
    "    \"xtick.labelsize\": 8,\n",
    "    \"ytick.labelsize\": 8\n",
    "}\n",
    "\n",
    "from cycler import cycler\n",
    "\n",
    "plt.rcParams['axes.prop_cycle'] = cycler(color=[\n",
    "    # Par 1: Tonos claros de azul\n",
    "    \"#004080\",  # Azul medio 2 (más contraste)\n",
    "    \"#3A8DC6\",  # Azul claro 2 (alejado del blanco)\n",
    "\n",
    "\n",
    "    # Par 2: Tonos profundos de azul\n",
    "    \"#003F9E\",  # Azul intenso 1\n",
    "    \"#002C7A\",  # Azul intenso 2 (un poco más profundo)\n",
    "\n",
    "    # Par 3: Tonos violeta/magenta\n",
    "    \"#D340A1\",  # Magenta brillante 1\n",
    "    \"#A02C78\",  # Violeta oscuro 2\n",
    "])\n",
    "\n",
    "plt.style.use('seaborn-v0_8-white')\n",
    "plt.rcParams.update(tex_fonts)"
   ]
  },
  {
   "cell_type": "code",
   "execution_count": 12,
   "id": "47229827",
   "metadata": {},
   "outputs": [],
   "source": [
    "t = np.array(data['time_5'])[10:]\n",
    "T = np.array(data['temperature_5'])[10:]\n",
    "\n",
    "t = t - t[0]\n",
    "#T = T - (T[0] - 24)  # Ajustar para que T(0) sea 22\n"
   ]
  },
  {
   "cell_type": "code",
   "execution_count": 13,
   "id": "213b9dad",
   "metadata": {},
   "outputs": [
    {
     "data": {
      "text/plain": [
       "<matplotlib.collections.PathCollection at 0x7cef1baed550>"
      ]
     },
     "execution_count": 13,
     "metadata": {},
     "output_type": "execute_result"
    },
    {
     "data": {
      "image/png": "[encoded data removed]",
      "text/plain": [
       "<Figure size 640x480 with 1 Axes>"
      ]
     },
     "metadata": {},
     "output_type": "display_data"
    }
   ],
   "source": [
    "plt.scatter(t, T, label='Video 5', color='orange')"
   ]
  },
  {
   "cell_type": "code",
   "execution_count": 14,
   "id": "b241506e",
   "metadata": {},
   "outputs": [],
   "source": [
    "t_lin = t[:20]\n",
    "T_lin = T[:20]"
   ]
  },
  {
   "cell_type": "code",
   "execution_count": 15,
   "id": "564cb37b",
   "metadata": {},
   "outputs": [
    {
     "data": {
      "text/plain": [
       "[<matplotlib.lines.Line2D at 0x7cef1ac06d50>]"
      ]
     },
     "execution_count": 15,
     "metadata": {},
     "output_type": "execute_result"
    },
    {
     "data": {
      "image/png": "[encoded data removed]",
      "text/plain": [
       "<Figure size 640x480 with 1 Axes>"
      ]
     },
     "metadata": {},
     "output_type": "display_data"
    }
   ],
   "source": [
    "plt.plot(t_lin, T_lin, 'o', label='Linear Fit Data', color='orange')"
   ]
  },
  {
   "cell_type": "code",
   "execution_count": 16,
   "id": "e9876a4a",
   "metadata": {},
   "outputs": [],
   "source": [
    "from scipy.optimize import curve_fit"
   ]
  },
  {
   "cell_type": "code",
   "execution_count": 17,
   "id": "f88cddae",
   "metadata": {},
   "outputs": [],
   "source": [
    "line = lambda t, m, b: m * t + b\n",
    "args_lin, covs_lin = curve_fit(line, t_lin, T_lin, p0=[46/400, 30])"
   ]
  },
  {
   "cell_type": "code",
   "execution_count": 18,
   "id": "30df10ab",
   "metadata": {},
   "outputs": [],
   "source": [
    "from sklearn.metrics import r2_score"
   ]
  },
  {
   "cell_type": "code",
   "execution_count": 19,
   "id": "95353f9c",
   "metadata": {},
   "outputs": [],
   "source": [
    "R2 = r2_score(T_lin, line(t_lin, *args_lin))"
   ]
  },
  {
   "cell_type": "code",
   "execution_count": 20,
   "id": "9e21528f",
   "metadata": {},
   "outputs": [
    {
     "data": {
      "image/png": "[encoded data removed]",
      "text/plain": [
       "<Figure size 400x300 with 1 Axes>"
      ]
     },
     "metadata": {},
     "output_type": "display_data"
    }
   ],
   "source": [
    "fig = plt.figure(figsize=(4, 3))\n",
    "plt.plot(t_lin, T_lin, 'o', label='Datos')  # Points in blue\n",
    "plt.plot(t_lin, line(t_lin, *args_lin), '-', label=fr'ajuste $R^2={R2:.6f}$', linewidth=3)  # Curve in orange\n",
    "plt.xlabel('Tiempo (s)')\n",
    "plt.ylabel('Temperatura (°C)')\n",
    "plt.legend()\n",
    "\n",
    "plt.savefig('calentamiento_lin_fit.png', dpi=300, bbox_inches='tight')"
   ]
  },
  {
   "cell_type": "code",
   "execution_count": 21,
   "id": "b2e61c1a",
   "metadata": {},
   "outputs": [
    {
     "data": {
      "text/plain": [
       "(array([ 0.04121925, 32.22062108]), array([0.00032859, 0.02306917]))"
      ]
     },
     "execution_count": 21,
     "metadata": {},
     "output_type": "execute_result"
    }
   ],
   "source": [
    "m, b = args_lin\n",
    "args_lin, np.sqrt(np.diag(covs_lin))"
   ]
  },
  {
   "cell_type": "code",
   "execution_count": 22,
   "id": "12bcc9c3",
   "metadata": {},
   "outputs": [],
   "source": [
    "args, covs = curve_fit(func, t, T, p0=[30, 80, 1000])"
   ]
  },
  {
   "cell_type": "code",
   "execution_count": 23,
   "id": "a4b4a23f",
   "metadata": {},
   "outputs": [],
   "source": [
    "R2 = r2_score(T, func(t, *args))"
   ]
  },
  {
   "cell_type": "code",
   "execution_count": 24,
   "id": "633482c9",
   "metadata": {},
   "outputs": [
    {
     "data": {
      "image/png": "[encoded data removed]",
      "text/plain": [
       "<Figure size 400x300 with 1 Axes>"
      ]
     },
     "metadata": {},
     "output_type": "display_data"
    }
   ],
   "source": [
    "fig = plt.figure(figsize=(4, 3))\n",
    "plt.plot(t, T, 'o', label='datos')\n",
    "plt.plot(t, func(t, *args), '-', label=fr'ajuste $R^2={R2:.6f}$', linewidth=3)\n",
    "plt.xlabel('Tiempo (s)')\n",
    "plt.ylabel('Temperatura (°C)')\n",
    "plt.legend()\n",
    "plt.savefig('calentamiento_fit.png', dpi=300, bbox_inches='tight')"
   ]
  },
  {
   "cell_type": "code",
   "execution_count": 25,
   "id": "e9da040b",
   "metadata": {},
   "outputs": [
    {
     "data": {
      "text/plain": [
       "(array([  32.06560706,   83.33548624, 1126.9405656 ]),\n",
       " array([0.01937379, 0.13385175, 5.0115612 ]))"
      ]
     },
     "execution_count": 25,
     "metadata": {},
     "output_type": "execute_result"
    }
   ],
   "source": [
    "args, np.sqrt(np.diag(covs))"
   ]
  },
  {
   "cell_type": "code",
   "execution_count": 26,
   "id": "83f59996",
   "metadata": {},
   "outputs": [],
   "source": [
    "T_0, T_inf, tau = args"
   ]
  },
  {
   "cell_type": "code",
   "execution_count": 27,
   "id": "4a1d8991",
   "metadata": {},
   "outputs": [
    {
     "data": {
      "text/plain": [
       "(np.float64(0.04121925063736373), np.float64(0.05176447456077122))"
      ]
     },
     "execution_count": 27,
     "metadata": {},
     "output_type": "execute_result"
    }
   ],
   "source": [
    "m, (T_inf-25)/tau"
   ]
  }
 ],
 "metadata": {
  "kernelspec": {
   "display_name": "AI",
   "language": "python",
   "name": "python3"
  },
  "language_info": {
   "codemirror_mode": {
    "name": "ipython",
    "version": 3
   },
   "file_extension": ".py",
   "mimetype": "text/x-python",
   "name": "python",
   "nbconvert_exporter": "python",
   "pygments_lexer": "ipython3",
   "version": "3.13.2"
  }
 },
 "nbformat": 4,
 "nbformat_minor": 5
}
