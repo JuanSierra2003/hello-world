{
 "cells": [
  {
   "cell_type": "code",
   "execution_count": 168,
   "id": "ca16fd91",
   "metadata": {},
   "outputs": [],
   "source": [
    "import numpy as np\n",
    "import pandas as pd\n",
    "from matplotlib import pyplot as plt\n",
    "from cycler import cycler"
   ]
  },
  {
   "cell_type": "code",
   "execution_count": 169,
   "id": "177bc077",
   "metadata": {},
   "outputs": [],
   "source": [
    "dF = pd.read_csv('data.csv')"
   ]
  },
  {
   "cell_type": "code",
   "execution_count": 170,
   "id": "0ea5a445",
   "metadata": {},
   "outputs": [
    {
     "data": {
      "text/html": [
       "<div>\n",
       "<style scoped>\n",
       "    .dataframe tbody tr th:only-of-type {\n",
       "        vertical-align: middle;\n",
       "    }\n",
       "\n",
       "    .dataframe tbody tr th {\n",
       "        vertical-align: top;\n",
       "    }\n",
       "\n",
       "    .dataframe thead th {\n",
       "        text-align: right;\n",
       "    }\n",
       "</style>\n",
       "<table border=\"1\" class=\"dataframe\">\n",
       "  <thead>\n",
       "    <tr style=\"text-align: right;\">\n",
       "      <th></th>\n",
       "      <th>V tupla (mV)</th>\n",
       "      <th>T tupla (grados)</th>\n",
       "      <th>R 10k (Kohms)</th>\n",
       "      <th>T 10k (grados)</th>\n",
       "      <th>R 100k (kOhm)</th>\n",
       "      <th>T 100k (grados)</th>\n",
       "      <th>T pt100 (grados)</th>\n",
       "      <th>R pt100 [Ohm]</th>\n",
       "      <th>T LM  [C]</th>\n",
       "      <th>V LM [mV]</th>\n",
       "      <th>T diodo [C]</th>\n",
       "      <th>V diodo[mV]</th>\n",
       "      <th>T Cu [C]</th>\n",
       "      <th>R Cu [ohm]</th>\n",
       "    </tr>\n",
       "  </thead>\n",
       "  <tbody>\n",
       "    <tr>\n",
       "      <th>0</th>\n",
       "      <td>0.3</td>\n",
       "      <td>33.0</td>\n",
       "      <td>5.12</td>\n",
       "      <td>40.0</td>\n",
       "      <td>122.1</td>\n",
       "      <td>20</td>\n",
       "      <td>20</td>\n",
       "      <td>109</td>\n",
       "      <td>25.0</td>\n",
       "      <td>358.0</td>\n",
       "      <td>25.0</td>\n",
       "      <td>552.0</td>\n",
       "      <td>25.0</td>\n",
       "      <td>183.0</td>\n",
       "    </tr>\n",
       "    <tr>\n",
       "      <th>1</th>\n",
       "      <td>0.4</td>\n",
       "      <td>35.0</td>\n",
       "      <td>4.12</td>\n",
       "      <td>45.0</td>\n",
       "      <td>103.1</td>\n",
       "      <td>25</td>\n",
       "      <td>25</td>\n",
       "      <td>110</td>\n",
       "      <td>30.0</td>\n",
       "      <td>458.0</td>\n",
       "      <td>30.0</td>\n",
       "      <td>539.0</td>\n",
       "      <td>30.0</td>\n",
       "      <td>187.0</td>\n",
       "    </tr>\n",
       "    <tr>\n",
       "      <th>2</th>\n",
       "      <td>0.6</td>\n",
       "      <td>40.0</td>\n",
       "      <td>3.37</td>\n",
       "      <td>50.0</td>\n",
       "      <td>83.5</td>\n",
       "      <td>30</td>\n",
       "      <td>30</td>\n",
       "      <td>112</td>\n",
       "      <td>35.0</td>\n",
       "      <td>535.0</td>\n",
       "      <td>35.0</td>\n",
       "      <td>526.0</td>\n",
       "      <td>35.0</td>\n",
       "      <td>190.0</td>\n",
       "    </tr>\n",
       "    <tr>\n",
       "      <th>3</th>\n",
       "      <td>0.9</td>\n",
       "      <td>45.0</td>\n",
       "      <td>2.79</td>\n",
       "      <td>55.0</td>\n",
       "      <td>66.3</td>\n",
       "      <td>35</td>\n",
       "      <td>35</td>\n",
       "      <td>114</td>\n",
       "      <td>40.0</td>\n",
       "      <td>589.0</td>\n",
       "      <td>40.0</td>\n",
       "      <td>515.0</td>\n",
       "      <td>40.0</td>\n",
       "      <td>194.0</td>\n",
       "    </tr>\n",
       "    <tr>\n",
       "      <th>4</th>\n",
       "      <td>1.1</td>\n",
       "      <td>50.0</td>\n",
       "      <td>2.29</td>\n",
       "      <td>60.0</td>\n",
       "      <td>54.0</td>\n",
       "      <td>40</td>\n",
       "      <td>40</td>\n",
       "      <td>116</td>\n",
       "      <td>45.0</td>\n",
       "      <td>703.0</td>\n",
       "      <td>45.0</td>\n",
       "      <td>504.0</td>\n",
       "      <td>45.0</td>\n",
       "      <td>198.0</td>\n",
       "    </tr>\n",
       "    <tr>\n",
       "      <th>5</th>\n",
       "      <td>1.3</td>\n",
       "      <td>55.0</td>\n",
       "      <td>1.88</td>\n",
       "      <td>65.0</td>\n",
       "      <td>43.2</td>\n",
       "      <td>45</td>\n",
       "      <td>45</td>\n",
       "      <td>118</td>\n",
       "      <td>50.0</td>\n",
       "      <td>785.0</td>\n",
       "      <td>50.0</td>\n",
       "      <td>492.0</td>\n",
       "      <td>50.0</td>\n",
       "      <td>201.0</td>\n",
       "    </tr>\n",
       "    <tr>\n",
       "      <th>6</th>\n",
       "      <td>1.5</td>\n",
       "      <td>60.0</td>\n",
       "      <td>1.54</td>\n",
       "      <td>70.0</td>\n",
       "      <td>35.8</td>\n",
       "      <td>50</td>\n",
       "      <td>50</td>\n",
       "      <td>120</td>\n",
       "      <td>55.0</td>\n",
       "      <td>991.0</td>\n",
       "      <td>55.0</td>\n",
       "      <td>481.0</td>\n",
       "      <td>55.0</td>\n",
       "      <td>205.0</td>\n",
       "    </tr>\n",
       "    <tr>\n",
       "      <th>7</th>\n",
       "      <td>1.7</td>\n",
       "      <td>65.0</td>\n",
       "      <td>1.22</td>\n",
       "      <td>75.0</td>\n",
       "      <td>28.8</td>\n",
       "      <td>55</td>\n",
       "      <td>55</td>\n",
       "      <td>122</td>\n",
       "      <td>60.0</td>\n",
       "      <td>1087.0</td>\n",
       "      <td>60.0</td>\n",
       "      <td>451.0</td>\n",
       "      <td>60.0</td>\n",
       "      <td>209.0</td>\n",
       "    </tr>\n",
       "    <tr>\n",
       "      <th>8</th>\n",
       "      <td>2.0</td>\n",
       "      <td>70.0</td>\n",
       "      <td>1.09</td>\n",
       "      <td>80.0</td>\n",
       "      <td>23.5</td>\n",
       "      <td>60</td>\n",
       "      <td>60</td>\n",
       "      <td>124</td>\n",
       "      <td>65.0</td>\n",
       "      <td>1199.0</td>\n",
       "      <td>65.0</td>\n",
       "      <td>460.0</td>\n",
       "      <td>65.0</td>\n",
       "      <td>213.0</td>\n",
       "    </tr>\n",
       "    <tr>\n",
       "      <th>9</th>\n",
       "      <td>2.2</td>\n",
       "      <td>75.0</td>\n",
       "      <td>0.89</td>\n",
       "      <td>85.0</td>\n",
       "      <td>19.2</td>\n",
       "      <td>65</td>\n",
       "      <td>65</td>\n",
       "      <td>127</td>\n",
       "      <td>70.0</td>\n",
       "      <td>1295.0</td>\n",
       "      <td>70.0</td>\n",
       "      <td>448.0</td>\n",
       "      <td>70.0</td>\n",
       "      <td>217.0</td>\n",
       "    </tr>\n",
       "    <tr>\n",
       "      <th>10</th>\n",
       "      <td>2.4</td>\n",
       "      <td>80.0</td>\n",
       "      <td>NaN</td>\n",
       "      <td>NaN</td>\n",
       "      <td>16.0</td>\n",
       "      <td>70</td>\n",
       "      <td>70</td>\n",
       "      <td>128</td>\n",
       "      <td>75.0</td>\n",
       "      <td>1400.0</td>\n",
       "      <td>75.0</td>\n",
       "      <td>437.0</td>\n",
       "      <td>75.0</td>\n",
       "      <td>220.0</td>\n",
       "    </tr>\n",
       "    <tr>\n",
       "      <th>11</th>\n",
       "      <td>2.6</td>\n",
       "      <td>85.0</td>\n",
       "      <td>NaN</td>\n",
       "      <td>NaN</td>\n",
       "      <td>13.2</td>\n",
       "      <td>75</td>\n",
       "      <td>75</td>\n",
       "      <td>131</td>\n",
       "      <td>80.0</td>\n",
       "      <td>1507.0</td>\n",
       "      <td>80.0</td>\n",
       "      <td>426.0</td>\n",
       "      <td>80.0</td>\n",
       "      <td>224.0</td>\n",
       "    </tr>\n",
       "    <tr>\n",
       "      <th>12</th>\n",
       "      <td>2.7</td>\n",
       "      <td>88.0</td>\n",
       "      <td>NaN</td>\n",
       "      <td>NaN</td>\n",
       "      <td>11.0</td>\n",
       "      <td>80</td>\n",
       "      <td>80</td>\n",
       "      <td>133</td>\n",
       "      <td>85.0</td>\n",
       "      <td>1548.0</td>\n",
       "      <td>85.0</td>\n",
       "      <td>419.0</td>\n",
       "      <td>85.0</td>\n",
       "      <td>228.0</td>\n",
       "    </tr>\n",
       "    <tr>\n",
       "      <th>13</th>\n",
       "      <td>NaN</td>\n",
       "      <td>NaN</td>\n",
       "      <td>NaN</td>\n",
       "      <td>NaN</td>\n",
       "      <td>9.3</td>\n",
       "      <td>85</td>\n",
       "      <td>85</td>\n",
       "      <td>135</td>\n",
       "      <td>NaN</td>\n",
       "      <td>NaN</td>\n",
       "      <td>NaN</td>\n",
       "      <td>NaN</td>\n",
       "      <td>NaN</td>\n",
       "      <td>NaN</td>\n",
       "    </tr>\n",
       "  </tbody>\n",
       "</table>\n",
       "</div>"
      ],
      "text/plain": [
       "    V tupla (mV)  T tupla (grados)  R 10k (Kohms)  T 10k (grados)  \\\n",
       "0            0.3              33.0           5.12            40.0   \n",
       "1            0.4              35.0           4.12            45.0   \n",
       "2            0.6              40.0           3.37            50.0   \n",
       "3            0.9              45.0           2.79            55.0   \n",
       "4            1.1              50.0           2.29            60.0   \n",
       "5            1.3              55.0           1.88            65.0   \n",
       "6            1.5              60.0           1.54            70.0   \n",
       "7            1.7              65.0           1.22            75.0   \n",
       "8            2.0              70.0           1.09            80.0   \n",
       "9            2.2              75.0           0.89            85.0   \n",
       "10           2.4              80.0            NaN             NaN   \n",
       "11           2.6              85.0            NaN             NaN   \n",
       "12           2.7              88.0            NaN             NaN   \n",
       "13           NaN               NaN            NaN             NaN   \n",
       "\n",
       "    R 100k (kOhm)  T 100k (grados)  T pt100 (grados)  R pt100 [Ohm]  \\\n",
       "0           122.1               20                20            109   \n",
       "1           103.1               25                25            110   \n",
       "2            83.5               30                30            112   \n",
       "3            66.3               35                35            114   \n",
       "4            54.0               40                40            116   \n",
       "5            43.2               45                45            118   \n",
       "6            35.8               50                50            120   \n",
       "7            28.8               55                55            122   \n",
       "8            23.5               60                60            124   \n",
       "9            19.2               65                65            127   \n",
       "10           16.0               70                70            128   \n",
       "11           13.2               75                75            131   \n",
       "12           11.0               80                80            133   \n",
       "13            9.3               85                85            135   \n",
       "\n",
       "    T LM  [C]  V LM [mV]  T diodo [C]  V diodo[mV]  T Cu [C]  R Cu [ohm]  \n",
       "0        25.0      358.0         25.0        552.0      25.0       183.0  \n",
       "1        30.0      458.0         30.0        539.0      30.0       187.0  \n",
       "2        35.0      535.0         35.0        526.0      35.0       190.0  \n",
       "3        40.0      589.0         40.0        515.0      40.0       194.0  \n",
       "4        45.0      703.0         45.0        504.0      45.0       198.0  \n",
       "5        50.0      785.0         50.0        492.0      50.0       201.0  \n",
       "6        55.0      991.0         55.0        481.0      55.0       205.0  \n",
       "7        60.0     1087.0         60.0        451.0      60.0       209.0  \n",
       "8        65.0     1199.0         65.0        460.0      65.0       213.0  \n",
       "9        70.0     1295.0         70.0        448.0      70.0       217.0  \n",
       "10       75.0     1400.0         75.0        437.0      75.0       220.0  \n",
       "11       80.0     1507.0         80.0        426.0      80.0       224.0  \n",
       "12       85.0     1548.0         85.0        419.0      85.0       228.0  \n",
       "13        NaN        NaN          NaN          NaN       NaN         NaN  "
      ]
     },
     "execution_count": 170,
     "metadata": {},
     "output_type": "execute_result"
    }
   ],
   "source": [
    "dF"
   ]
  },
  {
   "cell_type": "code",
   "execution_count": 171,
   "id": "1d2809e0",
   "metadata": {},
   "outputs": [],
   "source": [
    "tex_fonts = {\n",
    "    # Use LaTeX to write all text\n",
    "    \"text.usetex\": True,\n",
    "    \"font.family\": \"serif\",\n",
    "    # Use 10pt font in plots, to match 10pt font in document\n",
    "    \"axes.labelsize\": 8,\n",
    "    \"font.size\": 8,\n",
    "    # Make the legend/label fonts a little smaller\n",
    "    \"legend.fontsize\": 7,\n",
    "    \"xtick.labelsize\": 8,\n",
    "    \"ytick.labelsize\": 8\n",
    "}\n",
    "\n",
    "# Set a global color cycle\n",
    "plt.rcParams['axes.prop_cycle'] = cycler(color=[\n",
    "    \"#72B5E5\",  # Celeste más apagado\n",
    "    \"#3A88C9\",  # Azul intermedio más intenso\n",
    "    \"#2554A5\",  # Azul profundo (cercano al azul real)\n",
    "    \"#5A33C9\",  # Azul violáceo intenso\n",
    "    \"#6825A5\",  # Violeta frío fuerte\n",
    "    \"#75189D\"   # Púrpura frío vibrante con alto contraste\n",
    "])\n",
    "\n",
    "plt.style.use('seaborn-v0_8-white')\n",
    "plt.rcParams.update(tex_fonts)\n",
    "\n"
   ]
  },
  {
   "cell_type": "markdown",
   "id": "336960e7",
   "metadata": {},
   "source": [
    "## Termopar"
   ]
  },
  {
   "cell_type": "code",
   "execution_count": 172,
   "id": "1d0f473f",
   "metadata": {},
   "outputs": [],
   "source": [
    "V_tupla = np.array(dF['V tupla (mV)'])\n",
    "T_tupla = np.array(dF['T tupla (grados)'])"
   ]
  },
  {
   "cell_type": "code",
   "execution_count": 173,
   "id": "b6081bc3",
   "metadata": {},
   "outputs": [
    {
     "data": {
      "image/png": "[encoded data removed]",
      "text/plain": [
       "<Figure size 500x300 with 1 Axes>"
      ]
     },
     "metadata": {},
     "output_type": "display_data"
    }
   ],
   "source": [
    "figure1 = plt.figure(figsize=(5, 3))\n",
    "\n",
    "plt.plot(T_tupla, V_tupla, 'o', label = 'datos')\n",
    "plt.plot(T_tupla, 0.044*T_tupla-1.13, '--', label = 'ajuste')\n",
    "\n",
    "plt.xlabel(r'T (°C)')\n",
    "plt.ylabel(r'V (mV)')\n",
    "\n",
    "plt.grid()\n",
    "plt.legend()\n",
    "plt.savefig('termopar.pdf', dpi=300)"
   ]
  },
  {
   "cell_type": "markdown",
   "id": "355eeaeb",
   "metadata": {},
   "source": [
    "## Termistor 10Kohm"
   ]
  },
  {
   "cell_type": "code",
   "execution_count": 174,
   "id": "1ee01b7c",
   "metadata": {},
   "outputs": [],
   "source": [
    "R_10k = np.array(dF['R 10k (Kohms)'])\n",
    "T_10k = np.array(dF['T 10k (grados)']) + 273"
   ]
  },
  {
   "cell_type": "code",
   "execution_count": 175,
   "id": "61605df8",
   "metadata": {},
   "outputs": [
    {
     "data": {
      "image/png": "[encoded data removed]",
      "text/plain": [
       "<Figure size 500x300 with 1 Axes>"
      ]
     },
     "metadata": {},
     "output_type": "display_data"
    }
   ],
   "source": [
    "figure2 = plt.figure(figsize=(5, 3))\n",
    "\n",
    "plt.plot(T_10k, R_10k, 'o', label = 'datos')\n",
    "plt.plot(T_10k, 867213*np.exp(-0.038556*T_10k), '--', label = 'ajuste')\n",
    "\n",
    "plt.xlabel(r'T (K)')\n",
    "plt.ylabel(r'R (k$\\Omega$)')\n",
    "\n",
    "plt.grid()\n",
    "plt.legend()\n",
    "plt.savefig('termistor10k.pdf', dpi=300)"
   ]
  },
  {
   "cell_type": "markdown",
   "id": "e5697e66",
   "metadata": {},
   "source": [
    "## Termistor 100k"
   ]
  },
  {
   "cell_type": "code",
   "execution_count": 176,
   "id": "4cec4c41",
   "metadata": {},
   "outputs": [],
   "source": [
    "R_100k = np.array(dF['R 100k (kOhm)'])\n",
    "T_100k = np.array(dF['T 100k (grados)']) + 273"
   ]
  },
  {
   "cell_type": "code",
   "execution_count": 177,
   "id": "b18450b2",
   "metadata": {},
   "outputs": [
    {
     "data": {
      "image/png": "[encoded data removed]",
      "text/plain": [
       "<Figure size 500x300 with 1 Axes>"
      ]
     },
     "metadata": {},
     "output_type": "display_data"
    }
   ],
   "source": [
    "figure3 = plt.figure(figsize=(5, 3))\n",
    "\n",
    "plt.plot(T_100k, R_100k, 'o', label = 'datos')\n",
    "plt.plot(T_100k, 16700000*np.exp(-0.0404*T_10k), '--', label = 'ajuste')\n",
    "\n",
    "plt.xlabel(r'T [K]')\n",
    "plt.ylabel(r'R [k$\\Omega$]')\n",
    "\n",
    "plt.grid()\n",
    "plt.legend()\n",
    "plt.savefig('termistor100k.pdf', dpi=300)"
   ]
  },
  {
   "cell_type": "markdown",
   "id": "3175ace2",
   "metadata": {},
   "source": [
    "## PT 100"
   ]
  },
  {
   "cell_type": "code",
   "execution_count": 178,
   "id": "5625a181",
   "metadata": {},
   "outputs": [],
   "source": [
    "R_pt100 = np.array(dF['R pt100 [Ohm]'])\n",
    "T_pt100 = np.array(dF['T pt100 (grados)'])"
   ]
  },
  {
   "cell_type": "code",
   "execution_count": 179,
   "id": "b1222be8",
   "metadata": {},
   "outputs": [
    {
     "data": {
      "image/png": "[encoded data removed]",
      "text/plain": [
       "<Figure size 500x300 with 1 Axes>"
      ]
     },
     "metadata": {},
     "output_type": "display_data"
    }
   ],
   "source": [
    "figure4 = plt.figure(figsize=(5, 3))\n",
    "\n",
    "plt.plot(T_pt100, R_pt100, 'o', label = 'datos')\n",
    "\n",
    "plt.xlabel(r'T (°C)')\n",
    "plt.ylabel(r'R ($\\Omega$)')\n",
    "\n",
    "plt.grid()\n",
    "plt.legend()\n",
    "plt.savefig('pt100.pdf', dpi=300)"
   ]
  },
  {
   "cell_type": "markdown",
   "id": "8f1b88f5",
   "metadata": {},
   "source": [
    "## LM35"
   ]
  },
  {
   "cell_type": "code",
   "execution_count": 180,
   "id": "04de6ddf",
   "metadata": {},
   "outputs": [],
   "source": [
    "V_LM = np.array(dF['V LM [mV]'])\n",
    "T_LM = np.array(dF['T LM  [C]'])"
   ]
  },
  {
   "cell_type": "code",
   "execution_count": 181,
   "id": "c7e46534",
   "metadata": {},
   "outputs": [
    {
     "data": {
      "image/png": "[encoded data removed]",
      "text/plain": [
       "<Figure size 500x300 with 1 Axes>"
      ]
     },
     "metadata": {},
     "output_type": "display_data"
    }
   ],
   "source": [
    "figure5 = plt.figure(figsize=(5, 3))\n",
    "\n",
    "plt.errorbar(T_LM, V_LM, xerr=1, capsize=3,fmt='o', label = 'datos')\n",
    "plt.plot(T_LM, 21.16*T_LM-205.81, '--', label = 'ajuste')\n",
    "plt.plot(T_LM, 10*T_LM, label = 'comportamiento esperado')\n",
    "\n",
    "plt.xlabel(r'T [°C]')\n",
    "plt.ylabel(r'V [mV]')\n",
    "\n",
    "plt.grid()\n",
    "plt.legend()\n",
    "plt.savefig('LM35.pdf', dpi=300)"
   ]
  },
  {
   "cell_type": "code",
   "execution_count": 182,
   "id": "bac14063",
   "metadata": {},
   "outputs": [],
   "source": [
    "from scipy.optimize import curve_fit\n",
    "def lin(x,a,b):\n",
    "  return a*x+b"
   ]
  },
  {
   "cell_type": "code",
   "execution_count": 183,
   "id": "efe9682d",
   "metadata": {},
   "outputs": [],
   "source": [
    "arg, covs = curve_fit(lin, T_LM[:-1], V_LM[:-1])"
   ]
  },
  {
   "cell_type": "code",
   "execution_count": 184,
   "id": "2f534944",
   "metadata": {},
   "outputs": [
    {
     "data": {
      "text/plain": [
       "array([  21.16153846, -205.80769231])"
      ]
     },
     "execution_count": 184,
     "metadata": {},
     "output_type": "execute_result"
    }
   ],
   "source": [
    "arg"
   ]
  },
  {
   "cell_type": "code",
   "execution_count": 185,
   "id": "494c0af9",
   "metadata": {},
   "outputs": [
    {
     "data": {
      "text/plain": [
       "array([3.34669179e-01, 1.12950846e+03])"
      ]
     },
     "execution_count": 185,
     "metadata": {},
     "output_type": "execute_result"
    }
   ],
   "source": [
    "np.diag(covs)"
   ]
  },
  {
   "cell_type": "code",
   "execution_count": 186,
   "id": "ca269a84",
   "metadata": {},
   "outputs": [],
   "source": [
    "T_lm35=np.array([20,25,30,35,40,45,50,55,60,65,70,75,80,85])+273.15\n",
    "V_lm35=np.array([201,250,301,353,400,450,503,552,599,651,699,749,800,846])"
   ]
  },
  {
   "cell_type": "code",
   "execution_count": 187,
   "id": "ed8ffba1",
   "metadata": {},
   "outputs": [
    {
     "data": {
      "image/png": "[encoded data removed]",
      "text/plain": [
       "<Figure size 500x300 with 1 Axes>"
      ]
     },
     "metadata": {},
     "output_type": "display_data"
    }
   ],
   "source": [
    "figure51 = plt.figure(figsize=(5, 3))\n",
    "\n",
    "plt.plot(T_lm35, V_lm35, 'o', label = 'datos')\n",
    "plt.plot(T_lm35, 21.16*T_lm35-205.81, '--', label = 'ajuste')\n",
    "\n",
    "plt.xlabel(r'T (°C)')\n",
    "plt.ylabel(r'V (mV)')\n",
    "\n",
    "plt.grid()\n",
    "plt.legend()\n",
    "plt.savefig('LM35.pdf', dpi=300)"
   ]
  },
  {
   "cell_type": "markdown",
   "id": "ca312e60",
   "metadata": {},
   "source": [
    "## Diodo"
   ]
  },
  {
   "cell_type": "code",
   "execution_count": 188,
   "id": "89c8aa6d",
   "metadata": {},
   "outputs": [],
   "source": [
    "V_diodo = np.array(dF['V diodo[mV]'])\n",
    "T_diodo = np.array(dF['T diodo [C]'])"
   ]
  },
  {
   "cell_type": "code",
   "execution_count": 189,
   "id": "9c27ff64",
   "metadata": {},
   "outputs": [
    {
     "data": {
      "image/png": "[encoded data removed]",
      "text/plain": [
       "<Figure size 500x300 with 1 Axes>"
      ]
     },
     "metadata": {},
     "output_type": "display_data"
    }
   ],
   "source": [
    "figure6 = plt.figure(figsize=(5, 3))\n",
    "\n",
    "plt.errorbar(T_diodo, V_diodo, fmt = 'o', label = 'datos')\n",
    "plt.plot(T_diodo, -2.25*T_diodo+604.61, '--', label = 'ajuste')\n",
    "\n",
    "plt.xlabel(r'T (°C)')\n",
    "plt.ylabel(r'V (mV)')\n",
    "\n",
    "plt.grid()\n",
    "plt.legend()\n",
    "plt.savefig('diodo.pdf', dpi=300)"
   ]
  },
  {
   "cell_type": "code",
   "execution_count": 190,
   "id": "77ed415d",
   "metadata": {},
   "outputs": [],
   "source": [
    "T_diodo49=np.array([15,20,25,30,35,40,45,50,55,60,65,70,75,80,85])+273.15\n",
    "V_diodo49=np.array([567,561,552,542,531,520,508,496,484,472,459,446,434,422,408])\n",
    "T_diodo79=np.array([16,25,30,35,40,45,50,55,60,65,70,75,80,85])+273.15\n",
    "V_diodo79=np.array([590,586,578,570,561,550,539,528,515,504,492,467,455,440])"
   ]
  },
  {
   "cell_type": "code",
   "execution_count": 191,
   "id": "a5955ea1",
   "metadata": {},
   "outputs": [
    {
     "data": {
      "image/png": "[encoded data removed]",
      "text/plain": [
       "<Figure size 500x300 with 1 Axes>"
      ]
     },
     "metadata": {},
     "output_type": "display_data"
    }
   ],
   "source": [
    "figure61 = plt.figure(figsize=(5, 3))\n",
    "\n",
    "plt.errorbar(T_diodo49, V_diodo49, xerr=1, capsize=3, fmt='o', label = 'datos $V_{in}$=4.9 V')\n",
    "plt.plot(T_diodo49, -2.33*T_diodo49+1245, '--', label = 'ajuste $V_{in}$ 4.9 V')\n",
    "\n",
    "plt.errorbar(T_diodo79, V_diodo79, xerr=1, capsize=3, fmt='o', label = 'datos $V_{in}$=7.9 V')\n",
    "plt.plot(T_diodo79, -2.28*T_diodo79+1269, '--', label = 'ajuste $V_{in}$ 7.9 V')\n",
    "\n",
    "plt.xlabel(r'T [K]')\n",
    "plt.ylabel(r'V [mV]')\n",
    "\n",
    "plt.grid()\n",
    "plt.legend()\n",
    "plt.savefig('diodo.pdf', dpi=300)"
   ]
  },
  {
   "cell_type": "markdown",
   "id": "7efe4ebb",
   "metadata": {},
   "source": [
    "## Alambre de cobre"
   ]
  },
  {
   "cell_type": "code",
   "execution_count": 192,
   "id": "1c490541",
   "metadata": {},
   "outputs": [],
   "source": [
    "R_Cu = np.array(dF['R Cu [ohm]'])\n",
    "T_Cu = np.array(dF['T Cu [C]'])"
   ]
  },
  {
   "cell_type": "code",
   "execution_count": 193,
   "id": "74bb866d",
   "metadata": {},
   "outputs": [
    {
     "data": {
      "image/png": "[encoded data removed]",
      "text/plain": [
       "<Figure size 500x300 with 1 Axes>"
      ]
     },
     "metadata": {},
     "output_type": "display_data"
    }
   ],
   "source": [
    "figure7 = plt.figure(figsize=(5, 3))\n",
    "\n",
    "plt.plot(T_Cu, R_Cu, 'o', label = 'datos')\n",
    "plt.plot(T_Cu, 0.7495*T_Cu+164.1, '--', label = 'ajuste')\n",
    "\n",
    "plt.xlabel(r'T (°C)')\n",
    "plt.ylabel(r'R ($\\Omega$)')\n",
    "\n",
    "plt.grid()\n",
    "plt.legend()\n",
    "plt.savefig('Cu.pdf', dpi=300)"
   ]
  },
  {
   "cell_type": "code",
   "execution_count": 194,
   "id": "e9ed29cd",
   "metadata": {},
   "outputs": [],
   "source": [
    "Cu_args, Cu_covs = curve_fit(lin, R_Cu[R_Cu>0], T_Cu[R_Cu>0])"
   ]
  },
  {
   "cell_type": "code",
   "execution_count": 195,
   "id": "e7d25517",
   "metadata": {},
   "outputs": [
    {
     "data": {
      "text/plain": [
       "(array([   1.33371442, -218.82183044]),\n",
       " array([7.23148752e-05, 3.06238478e+00]))"
      ]
     },
     "execution_count": 195,
     "metadata": {},
     "output_type": "execute_result"
    }
   ],
   "source": [
    "Cu_args, np.diag(Cu_covs)"
   ]
  },
  {
   "cell_type": "code",
   "execution_count": 196,
   "id": "d00b75cf",
   "metadata": {},
   "outputs": [
    {
     "data": {
      "text/plain": [
       "[<matplotlib.lines.Line2D at 0x75ff45bd8260>]"
      ]
     },
     "execution_count": 196,
     "metadata": {},
     "output_type": "execute_result"
    },
    {
     "data": {
      "image/png": "[encoded data removed]",
      "text/plain": [
       "<Figure size 640x480 with 1 Axes>"
      ]
     },
     "metadata": {},
     "output_type": "display_data"
    }
   ],
   "source": [
    "plt.plot(R_Cu, T_Cu, 'o')\n",
    "plt.plot(R_Cu, lin(R_Cu, *Cu_args))"
   ]
  },
  {
   "cell_type": "markdown",
   "id": "01287c43",
   "metadata": {},
   "source": [
    "## Cal Termistor"
   ]
  },
  {
   "cell_type": "code",
   "execution_count": 197,
   "id": "04040ca7",
   "metadata": {},
   "outputs": [],
   "source": [
    "def func_T(R, beta, A): return beta/(np.log(R)+A)\n",
    "\n",
    "from scipy.optimize import curve_fit"
   ]
  },
  {
   "cell_type": "code",
   "execution_count": 198,
   "id": "d363ead1",
   "metadata": {},
   "outputs": [],
   "source": [
    "cal_args, cal_covs = curve_fit(func_T, R_100k, T_100k)"
   ]
  },
  {
   "cell_type": "code",
   "execution_count": 199,
   "id": "956e4bd4",
   "metadata": {},
   "outputs": [
    {
     "data": {
      "image/png": "[encoded data removed]",
      "text/plain": [
       "<Figure size 640x480 with 1 Axes>"
      ]
     },
     "metadata": {},
     "output_type": "display_data"
    }
   ],
   "source": [
    "plt.plot(R_100k, T_100k, 'o')\n",
    "plt.plot(R_100k, func_T(R_100k, *cal_args))\n",
    "plt.show()"
   ]
  },
  {
   "cell_type": "markdown",
   "id": "c5a73d96",
   "metadata": {},
   "source": [
    "## Termómetro X"
   ]
  },
  {
   "cell_type": "code",
   "execution_count": 200,
   "id": "1062434c",
   "metadata": {},
   "outputs": [],
   "source": [
    "dfX = pd.read_csv('termoX.csv')"
   ]
  },
  {
   "cell_type": "code",
   "execution_count": 201,
   "id": "04e9d801",
   "metadata": {},
   "outputs": [
    {
     "data": {
      "text/html": [
       "<div>\n",
       "<style scoped>\n",
       "    .dataframe tbody tr th:only-of-type {\n",
       "        vertical-align: middle;\n",
       "    }\n",
       "\n",
       "    .dataframe tbody tr th {\n",
       "        vertical-align: top;\n",
       "    }\n",
       "\n",
       "    .dataframe thead th {\n",
       "        text-align: right;\n",
       "    }\n",
       "</style>\n",
       "<table border=\"1\" class=\"dataframe\">\n",
       "  <thead>\n",
       "    <tr style=\"text-align: right;\">\n",
       "      <th></th>\n",
       "      <th>R termis [kohm]</th>\n",
       "      <th>R X [ohm]</th>\n",
       "    </tr>\n",
       "  </thead>\n",
       "  <tbody>\n",
       "    <tr>\n",
       "      <th>0</th>\n",
       "      <td>113.4</td>\n",
       "      <td>528</td>\n",
       "    </tr>\n",
       "    <tr>\n",
       "      <th>1</th>\n",
       "      <td>106.4</td>\n",
       "      <td>529</td>\n",
       "    </tr>\n",
       "    <tr>\n",
       "      <th>2</th>\n",
       "      <td>99.4</td>\n",
       "      <td>530</td>\n",
       "    </tr>\n",
       "    <tr>\n",
       "      <th>3</th>\n",
       "      <td>95.0</td>\n",
       "      <td>531</td>\n",
       "    </tr>\n",
       "    <tr>\n",
       "      <th>4</th>\n",
       "      <td>92.0</td>\n",
       "      <td>532</td>\n",
       "    </tr>\n",
       "  </tbody>\n",
       "</table>\n",
       "</div>"
      ],
      "text/plain": [
       "   R termis [kohm]  R X [ohm]\n",
       "0            113.4        528\n",
       "1            106.4        529\n",
       "2             99.4        530\n",
       "3             95.0        531\n",
       "4             92.0        532"
      ]
     },
     "execution_count": 201,
     "metadata": {},
     "output_type": "execute_result"
    }
   ],
   "source": [
    "dfX.head()"
   ]
  },
  {
   "cell_type": "code",
   "execution_count": 202,
   "id": "7246a8da",
   "metadata": {},
   "outputs": [],
   "source": [
    "R_T = np.array(dfX['R termis [kohm]'])\n",
    "R_X = np.array(dfX['R X [ohm]'])\n",
    "\n",
    "T_X = func_T(R_T, *cal_args)-273"
   ]
  },
  {
   "cell_type": "code",
   "execution_count": 203,
   "id": "08e4e53a",
   "metadata": {},
   "outputs": [
    {
     "data": {
      "text/plain": [
       "[<matplotlib.lines.Line2D at 0x75ff47a8a450>]"
      ]
     },
     "execution_count": 203,
     "metadata": {},
     "output_type": "execute_result"
    },
    {
     "data": {
      "image/png": "[encoded data removed]",
      "text/plain": [
       "<Figure size 640x480 with 1 Axes>"
      ]
     },
     "metadata": {},
     "output_type": "display_data"
    }
   ],
   "source": [
    "plt.plot(T_X, R_X, 'o')"
   ]
  },
  {
   "cell_type": "code",
   "execution_count": 204,
   "id": "4458e3f8",
   "metadata": {},
   "outputs": [],
   "source": [
    "def func_X(T, A, B, c): return A+B*np.exp(T/c)\n",
    "\n",
    "x_args, x_covs = curve_fit(func_X, T_X, R_X, (500, 170, 10))"
   ]
  },
  {
   "cell_type": "code",
   "execution_count": 205,
   "id": "b4882b2f",
   "metadata": {},
   "outputs": [
    {
     "data": {
      "text/plain": [
       "(array([508.96979031,   1.22208204,   9.45458495]),\n",
       " array([2.75319075e+00, 2.40628486e-03, 3.05217942e-03]))"
      ]
     },
     "execution_count": 205,
     "metadata": {},
     "output_type": "execute_result"
    }
   ],
   "source": [
    "x_args, np.diag(x_covs)"
   ]
  },
  {
   "cell_type": "code",
   "execution_count": 206,
   "id": "c40732f1",
   "metadata": {},
   "outputs": [
    {
     "data": {
      "image/png": "[encoded data removed]",
      "text/plain": [
       "<Figure size 640x480 with 1 Axes>"
      ]
     },
     "metadata": {},
     "output_type": "display_data"
    }
   ],
   "source": [
    "plt.plot(T_X, R_X, 'o', label = 'datos', color= \"#3A88C9\")\n",
    "plt.plot(T_X, func_X(T_X, *x_args), label = 'ajuste', color = '#6825A5')\n",
    "\n",
    "plt.xlabel('T (°C)')\n",
    "plt.ylabel(r'R ($\\Omega$)')\n",
    "\n",
    "plt.legend()\n",
    "plt.savefig('TermoX.pdf', dpi = 300)"
   ]
  },
  {
   "cell_type": "markdown",
   "id": "0e7ff0a6",
   "metadata": {},
   "source": [
    "## Puntos fijos"
   ]
  },
  {
   "cell_type": "code",
   "execution_count": 207,
   "id": "e6455ec2",
   "metadata": {},
   "outputs": [],
   "source": [
    "#ebullición\n",
    "ebu_termo_alcohol =  88         #°C\n",
    "ebu_termistor = 8.54            #kohm\n",
    "ebu_alambre = 230               #ohm\n",
    "\n",
    "#fusion\n",
    "fus_termo_alcohol = 0           #°C\n",
    "fus_termistor = 0.32            #Mohm\n",
    "fus_alambre = 165               #ohm"
   ]
  },
  {
   "cell_type": "code",
   "execution_count": 208,
   "id": "f4b9da61",
   "metadata": {},
   "outputs": [],
   "source": [
    "fix_points = [\n",
    "    {'termometro':'Alcohol', 'fusion':0, 'ebullicion':88},\n",
    "    {'termometro':'Termistor', 'fusion':func_T(fus_termistor*1e3, *cal_args)-273, 'ebullicion':func_T(ebu_termistor, *cal_args)-273},\n",
    "    {'termometro':'Alambre Cu', 'fusion':lin(fus_alambre, *Cu_args), 'ebullicion':lin(ebu_alambre, *Cu_args)},\n",
    "]"
   ]
  },
  {
   "cell_type": "code",
   "execution_count": 209,
   "id": "a8c7d5ea",
   "metadata": {},
   "outputs": [],
   "source": [
    "fix_points = pd.DataFrame(fix_points)"
   ]
  },
  {
   "cell_type": "code",
   "execution_count": 210,
   "id": "85eb8b2a",
   "metadata": {},
   "outputs": [
    {
     "data": {
      "text/html": [
       "<div>\n",
       "<style scoped>\n",
       "    .dataframe tbody tr th:only-of-type {\n",
       "        vertical-align: middle;\n",
       "    }\n",
       "\n",
       "    .dataframe tbody tr th {\n",
       "        vertical-align: top;\n",
       "    }\n",
       "\n",
       "    .dataframe thead th {\n",
       "        text-align: right;\n",
       "    }\n",
       "</style>\n",
       "<table border=\"1\" class=\"dataframe\">\n",
       "  <thead>\n",
       "    <tr style=\"text-align: right;\">\n",
       "      <th></th>\n",
       "      <th>termometro</th>\n",
       "      <th>fusion</th>\n",
       "      <th>ebullicion</th>\n",
       "    </tr>\n",
       "  </thead>\n",
       "  <tbody>\n",
       "    <tr>\n",
       "      <th>0</th>\n",
       "      <td>Alcohol</td>\n",
       "      <td>0.000000</td>\n",
       "      <td>88.000000</td>\n",
       "    </tr>\n",
       "    <tr>\n",
       "      <th>1</th>\n",
       "      <td>Termistor</td>\n",
       "      <td>3.441983</td>\n",
       "      <td>88.095847</td>\n",
       "    </tr>\n",
       "    <tr>\n",
       "      <th>2</th>\n",
       "      <td>Alambre Cu</td>\n",
       "      <td>1.241049</td>\n",
       "      <td>87.932487</td>\n",
       "    </tr>\n",
       "  </tbody>\n",
       "</table>\n",
       "</div>"
      ],
      "text/plain": [
       "   termometro    fusion  ebullicion\n",
       "0     Alcohol  0.000000   88.000000\n",
       "1   Termistor  3.441983   88.095847\n",
       "2  Alambre Cu  1.241049   87.932487"
      ]
     },
     "execution_count": 210,
     "metadata": {},
     "output_type": "execute_result"
    }
   ],
   "source": [
    "fix_points"
   ]
  },
  {
   "cell_type": "code",
   "execution_count": 211,
   "id": "d1572c3f",
   "metadata": {},
   "outputs": [
    {
     "data": {
      "text/plain": [
       "(1.561010842137686, 1.7431561754259874)"
      ]
     },
     "execution_count": 211,
     "metadata": {},
     "output_type": "execute_result"
    }
   ],
   "source": [
    "fix_points['fusion'].mean(), fix_points['fusion'].std()"
   ]
  },
  {
   "cell_type": "code",
   "execution_count": 212,
   "id": "13a59cba",
   "metadata": {},
   "outputs": [
    {
     "data": {
      "text/plain": [
       "(88.00944472455978, 0.08208869006267398)"
      ]
     },
     "execution_count": 212,
     "metadata": {},
     "output_type": "execute_result"
    }
   ],
   "source": [
    "fix_points['ebullicion'].mean(), fix_points['ebullicion'].std()"
   ]
  }
 ],
 "metadata": {
  "kernelspec": {
   "display_name": "base",
   "language": "python",
   "name": "python3"
  },
  "language_info": {
   "codemirror_mode": {
    "name": "ipython",
    "version": 3
   },
   "file_extension": ".py",
   "mimetype": "text/x-python",
   "name": "python",
   "nbconvert_exporter": "python",
   "pygments_lexer": "ipython3",
   "version": "3.12.2"
  }
 },
 "nbformat": 4,
 "nbformat_minor": 5
}
