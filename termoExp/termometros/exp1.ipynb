{
 "cells": [
  {
   "cell_type": "code",
   "execution_count": 1,
   "id": "ca16fd91",
   "metadata": {},
   "outputs": [],
   "source": [
    "import numpy as np\n",
    "import pandas as pd\n",
    "from matplotlib import pyplot as plt\n",
    "from cycler import cycler"
   ]
  },
  {
   "cell_type": "code",
   "execution_count": 2,
   "id": "177bc077",
   "metadata": {},
   "outputs": [],
   "source": [
    "dF = pd.read_csv('data.csv')"
   ]
  },
  {
   "cell_type": "code",
   "execution_count": 3,
   "id": "0ea5a445",
   "metadata": {},
   "outputs": [
    {
     "data": {
      "text/html": [
       "<div>\n",
       "<style scoped>\n",
       "    .dataframe tbody tr th:only-of-type {\n",
       "        vertical-align: middle;\n",
       "    }\n",
       "\n",
       "    .dataframe tbody tr th {\n",
       "        vertical-align: top;\n",
       "    }\n",
       "\n",
       "    .dataframe thead th {\n",
       "        text-align: right;\n",
       "    }\n",
       "</style>\n",
       "<table border=\"1\" class=\"dataframe\">\n",
       "  <thead>\n",
       "    <tr style=\"text-align: right;\">\n",
       "      <th></th>\n",
       "      <th>V tupla (mV)</th>\n",
       "      <th>T tupla (grados)</th>\n",
       "      <th>R 10k (Kohms)</th>\n",
       "      <th>T 10k (grados)</th>\n",
       "      <th>R 100k (kOhm)</th>\n",
       "      <th>T 100k (grados)</th>\n",
       "      <th>T pt100 (grados)</th>\n",
       "      <th>R pt100 [Ohm]</th>\n",
       "      <th>T LM  [C]</th>\n",
       "      <th>V LM [mV]</th>\n",
       "      <th>T diodo [C]</th>\n",
       "      <th>V diodo[mV]</th>\n",
       "      <th>T Cu [C]</th>\n",
       "      <th>R Cu [Ω]</th>\n",
       "    </tr>\n",
       "  </thead>\n",
       "  <tbody>\n",
       "    <tr>\n",
       "      <th>0</th>\n",
       "      <td>0.3</td>\n",
       "      <td>33.0</td>\n",
       "      <td>5.12</td>\n",
       "      <td>40.0</td>\n",
       "      <td>122.1</td>\n",
       "      <td>20</td>\n",
       "      <td>20</td>\n",
       "      <td>109</td>\n",
       "      <td>25.0</td>\n",
       "      <td>358.0</td>\n",
       "      <td>25.0</td>\n",
       "      <td>552.0</td>\n",
       "      <td>25.0</td>\n",
       "      <td>183.0</td>\n",
       "    </tr>\n",
       "    <tr>\n",
       "      <th>1</th>\n",
       "      <td>0.4</td>\n",
       "      <td>35.0</td>\n",
       "      <td>4.12</td>\n",
       "      <td>45.0</td>\n",
       "      <td>103.1</td>\n",
       "      <td>25</td>\n",
       "      <td>25</td>\n",
       "      <td>110</td>\n",
       "      <td>30.0</td>\n",
       "      <td>458.0</td>\n",
       "      <td>30.0</td>\n",
       "      <td>539.0</td>\n",
       "      <td>30.0</td>\n",
       "      <td>187.0</td>\n",
       "    </tr>\n",
       "    <tr>\n",
       "      <th>2</th>\n",
       "      <td>0.6</td>\n",
       "      <td>40.0</td>\n",
       "      <td>3.37</td>\n",
       "      <td>50.0</td>\n",
       "      <td>83.5</td>\n",
       "      <td>30</td>\n",
       "      <td>30</td>\n",
       "      <td>112</td>\n",
       "      <td>35.0</td>\n",
       "      <td>535.0</td>\n",
       "      <td>35.0</td>\n",
       "      <td>526.0</td>\n",
       "      <td>35.0</td>\n",
       "      <td>190.0</td>\n",
       "    </tr>\n",
       "    <tr>\n",
       "      <th>3</th>\n",
       "      <td>0.9</td>\n",
       "      <td>45.0</td>\n",
       "      <td>2.79</td>\n",
       "      <td>55.0</td>\n",
       "      <td>66.3</td>\n",
       "      <td>35</td>\n",
       "      <td>35</td>\n",
       "      <td>114</td>\n",
       "      <td>40.0</td>\n",
       "      <td>589.0</td>\n",
       "      <td>40.0</td>\n",
       "      <td>515.0</td>\n",
       "      <td>40.0</td>\n",
       "      <td>194.0</td>\n",
       "    </tr>\n",
       "    <tr>\n",
       "      <th>4</th>\n",
       "      <td>1.1</td>\n",
       "      <td>50.0</td>\n",
       "      <td>2.29</td>\n",
       "      <td>60.0</td>\n",
       "      <td>54.0</td>\n",
       "      <td>40</td>\n",
       "      <td>40</td>\n",
       "      <td>116</td>\n",
       "      <td>45.0</td>\n",
       "      <td>703.0</td>\n",
       "      <td>45.0</td>\n",
       "      <td>504.0</td>\n",
       "      <td>45.0</td>\n",
       "      <td>198.0</td>\n",
       "    </tr>\n",
       "    <tr>\n",
       "      <th>5</th>\n",
       "      <td>1.3</td>\n",
       "      <td>55.0</td>\n",
       "      <td>1.88</td>\n",
       "      <td>65.0</td>\n",
       "      <td>43.2</td>\n",
       "      <td>45</td>\n",
       "      <td>45</td>\n",
       "      <td>118</td>\n",
       "      <td>50.0</td>\n",
       "      <td>785.0</td>\n",
       "      <td>50.0</td>\n",
       "      <td>492.0</td>\n",
       "      <td>50.0</td>\n",
       "      <td>201.0</td>\n",
       "    </tr>\n",
       "    <tr>\n",
       "      <th>6</th>\n",
       "      <td>1.5</td>\n",
       "      <td>60.0</td>\n",
       "      <td>1.54</td>\n",
       "      <td>70.0</td>\n",
       "      <td>35.8</td>\n",
       "      <td>50</td>\n",
       "      <td>50</td>\n",
       "      <td>120</td>\n",
       "      <td>55.0</td>\n",
       "      <td>991.0</td>\n",
       "      <td>55.0</td>\n",
       "      <td>481.0</td>\n",
       "      <td>55.0</td>\n",
       "      <td>205.0</td>\n",
       "    </tr>\n",
       "    <tr>\n",
       "      <th>7</th>\n",
       "      <td>1.7</td>\n",
       "      <td>65.0</td>\n",
       "      <td>1.22</td>\n",
       "      <td>75.0</td>\n",
       "      <td>28.8</td>\n",
       "      <td>55</td>\n",
       "      <td>55</td>\n",
       "      <td>122</td>\n",
       "      <td>60.0</td>\n",
       "      <td>1087.0</td>\n",
       "      <td>60.0</td>\n",
       "      <td>451.0</td>\n",
       "      <td>60.0</td>\n",
       "      <td>209.0</td>\n",
       "    </tr>\n",
       "    <tr>\n",
       "      <th>8</th>\n",
       "      <td>2.0</td>\n",
       "      <td>70.0</td>\n",
       "      <td>1.09</td>\n",
       "      <td>80.0</td>\n",
       "      <td>23.5</td>\n",
       "      <td>60</td>\n",
       "      <td>60</td>\n",
       "      <td>124</td>\n",
       "      <td>65.0</td>\n",
       "      <td>1199.0</td>\n",
       "      <td>65.0</td>\n",
       "      <td>460.0</td>\n",
       "      <td>65.0</td>\n",
       "      <td>213.0</td>\n",
       "    </tr>\n",
       "    <tr>\n",
       "      <th>9</th>\n",
       "      <td>2.2</td>\n",
       "      <td>75.0</td>\n",
       "      <td>0.89</td>\n",
       "      <td>85.0</td>\n",
       "      <td>19.2</td>\n",
       "      <td>65</td>\n",
       "      <td>65</td>\n",
       "      <td>127</td>\n",
       "      <td>70.0</td>\n",
       "      <td>1295.0</td>\n",
       "      <td>70.0</td>\n",
       "      <td>448.0</td>\n",
       "      <td>70.0</td>\n",
       "      <td>217.0</td>\n",
       "    </tr>\n",
       "    <tr>\n",
       "      <th>10</th>\n",
       "      <td>2.4</td>\n",
       "      <td>80.0</td>\n",
       "      <td>NaN</td>\n",
       "      <td>NaN</td>\n",
       "      <td>16.0</td>\n",
       "      <td>70</td>\n",
       "      <td>70</td>\n",
       "      <td>128</td>\n",
       "      <td>75.0</td>\n",
       "      <td>1400.0</td>\n",
       "      <td>75.0</td>\n",
       "      <td>437.0</td>\n",
       "      <td>75.0</td>\n",
       "      <td>220.0</td>\n",
       "    </tr>\n",
       "    <tr>\n",
       "      <th>11</th>\n",
       "      <td>2.6</td>\n",
       "      <td>85.0</td>\n",
       "      <td>NaN</td>\n",
       "      <td>NaN</td>\n",
       "      <td>13.2</td>\n",
       "      <td>75</td>\n",
       "      <td>75</td>\n",
       "      <td>131</td>\n",
       "      <td>80.0</td>\n",
       "      <td>1507.0</td>\n",
       "      <td>80.0</td>\n",
       "      <td>426.0</td>\n",
       "      <td>80.0</td>\n",
       "      <td>224.0</td>\n",
       "    </tr>\n",
       "    <tr>\n",
       "      <th>12</th>\n",
       "      <td>2.7</td>\n",
       "      <td>88.0</td>\n",
       "      <td>NaN</td>\n",
       "      <td>NaN</td>\n",
       "      <td>11.0</td>\n",
       "      <td>80</td>\n",
       "      <td>80</td>\n",
       "      <td>133</td>\n",
       "      <td>85.0</td>\n",
       "      <td>1548.0</td>\n",
       "      <td>85.0</td>\n",
       "      <td>419.0</td>\n",
       "      <td>85.0</td>\n",
       "      <td>228.0</td>\n",
       "    </tr>\n",
       "    <tr>\n",
       "      <th>13</th>\n",
       "      <td>NaN</td>\n",
       "      <td>NaN</td>\n",
       "      <td>NaN</td>\n",
       "      <td>NaN</td>\n",
       "      <td>9.3</td>\n",
       "      <td>85</td>\n",
       "      <td>85</td>\n",
       "      <td>135</td>\n",
       "      <td>NaN</td>\n",
       "      <td>NaN</td>\n",
       "      <td>NaN</td>\n",
       "      <td>NaN</td>\n",
       "      <td>NaN</td>\n",
       "      <td>NaN</td>\n",
       "    </tr>\n",
       "  </tbody>\n",
       "</table>\n",
       "</div>"
      ],
      "text/plain": [
       "    V tupla (mV)  T tupla (grados)  R 10k (Kohms)  T 10k (grados)  \\\n",
       "0            0.3              33.0           5.12            40.0   \n",
       "1            0.4              35.0           4.12            45.0   \n",
       "2            0.6              40.0           3.37            50.0   \n",
       "3            0.9              45.0           2.79            55.0   \n",
       "4            1.1              50.0           2.29            60.0   \n",
       "5            1.3              55.0           1.88            65.0   \n",
       "6            1.5              60.0           1.54            70.0   \n",
       "7            1.7              65.0           1.22            75.0   \n",
       "8            2.0              70.0           1.09            80.0   \n",
       "9            2.2              75.0           0.89            85.0   \n",
       "10           2.4              80.0            NaN             NaN   \n",
       "11           2.6              85.0            NaN             NaN   \n",
       "12           2.7              88.0            NaN             NaN   \n",
       "13           NaN               NaN            NaN             NaN   \n",
       "\n",
       "    R 100k (kOhm)  T 100k (grados)  T pt100 (grados)  R pt100 [Ohm]  \\\n",
       "0           122.1               20                20            109   \n",
       "1           103.1               25                25            110   \n",
       "2            83.5               30                30            112   \n",
       "3            66.3               35                35            114   \n",
       "4            54.0               40                40            116   \n",
       "5            43.2               45                45            118   \n",
       "6            35.8               50                50            120   \n",
       "7            28.8               55                55            122   \n",
       "8            23.5               60                60            124   \n",
       "9            19.2               65                65            127   \n",
       "10           16.0               70                70            128   \n",
       "11           13.2               75                75            131   \n",
       "12           11.0               80                80            133   \n",
       "13            9.3               85                85            135   \n",
       "\n",
       "    T LM  [C]  V LM [mV]  T diodo [C]  V diodo[mV]  T Cu [C]  R Cu [Ω]  \n",
       "0        25.0      358.0         25.0        552.0      25.0     183.0  \n",
       "1        30.0      458.0         30.0        539.0      30.0     187.0  \n",
       "2        35.0      535.0         35.0        526.0      35.0     190.0  \n",
       "3        40.0      589.0         40.0        515.0      40.0     194.0  \n",
       "4        45.0      703.0         45.0        504.0      45.0     198.0  \n",
       "5        50.0      785.0         50.0        492.0      50.0     201.0  \n",
       "6        55.0      991.0         55.0        481.0      55.0     205.0  \n",
       "7        60.0     1087.0         60.0        451.0      60.0     209.0  \n",
       "8        65.0     1199.0         65.0        460.0      65.0     213.0  \n",
       "9        70.0     1295.0         70.0        448.0      70.0     217.0  \n",
       "10       75.0     1400.0         75.0        437.0      75.0     220.0  \n",
       "11       80.0     1507.0         80.0        426.0      80.0     224.0  \n",
       "12       85.0     1548.0         85.0        419.0      85.0     228.0  \n",
       "13        NaN        NaN          NaN          NaN       NaN       NaN  "
      ]
     },
     "execution_count": 3,
     "metadata": {},
     "output_type": "execute_result"
    }
   ],
   "source": [
    "dF"
   ]
  },
  {
   "cell_type": "code",
   "execution_count": 4,
   "id": "1d2809e0",
   "metadata": {},
   "outputs": [],
   "source": [
    "tex_fonts = {\n",
    "    # Use LaTeX to write all text\n",
    "    \"text.usetex\": True,\n",
    "    \"font.family\": \"serif\",\n",
    "    # Use 10pt font in plots, to match 10pt font in document\n",
    "    \"axes.labelsize\": 8,\n",
    "    \"font.size\": 8,\n",
    "    # Make the legend/label fonts a little smaller\n",
    "    \"legend.fontsize\": 7,\n",
    "    \"xtick.labelsize\": 8,\n",
    "    \"ytick.labelsize\": 8\n",
    "}\n",
    "\n",
    "# Set a global color cycle\n",
    "plt.rcParams['axes.prop_cycle'] = cycler(color=[\n",
    "    \"#72B5E5\",  # Celeste más apagado\n",
    "    \"#3A88C9\",  # Azul intermedio más intenso\n",
    "    \"#2554A5\",  # Azul profundo (cercano al azul real)\n",
    "    \"#5A33C9\",  # Azul violáceo intenso\n",
    "    \"#6825A5\",  # Violeta frío fuerte\n",
    "    \"#75189D\"   # Púrpura frío vibrante con alto contraste\n",
    "])\n",
    "\n",
    "plt.style.use('seaborn-v0_8-white')\n",
    "plt.rcParams.update(tex_fonts)\n",
    "\n"
   ]
  },
  {
   "cell_type": "markdown",
   "id": "336960e7",
   "metadata": {},
   "source": [
    "## Termopar"
   ]
  },
  {
   "cell_type": "code",
   "execution_count": 5,
   "id": "1d0f473f",
   "metadata": {},
   "outputs": [],
   "source": [
    "V_tupla = np.array(dF['V tupla (mV)'])\n",
    "T_tupla = np.array(dF['T tupla (grados)'])"
   ]
  },
  {
   "cell_type": "code",
   "execution_count": 6,
   "id": "b6081bc3",
   "metadata": {},
   "outputs": [
    {
     "data": {
      "image/png": "[encoded data removed]",
      "text/plain": [
       "<Figure size 500x300 with 1 Axes>"
      ]
     },
     "metadata": {},
     "output_type": "display_data"
    }
   ],
   "source": [
    "figure1 = plt.figure(figsize=(5, 3))\n",
    "\n",
    "plt.plot(T_tupla, V_tupla, 'o', label = 'datos')\n",
    "plt.plot(T_tupla, 0.044*T_tupla-1.13, '--', label = 'ajuste')\n",
    "\n",
    "plt.xlabel(r'T (°C)')\n",
    "plt.ylabel(r'V (mV)')\n",
    "\n",
    "plt.legend()\n",
    "plt.savefig('termopar.pdf', dpi=300)"
   ]
  },
  {
   "cell_type": "markdown",
   "id": "355eeaeb",
   "metadata": {},
   "source": [
    "## Termistor 10Kohm"
   ]
  },
  {
   "cell_type": "code",
   "execution_count": 7,
   "id": "1ee01b7c",
   "metadata": {},
   "outputs": [],
   "source": [
    "R_10k = np.array(dF['R 10k (Kohms)'])\n",
    "T_10k = np.array(dF['T 10k (grados)']) + 273"
   ]
  },
  {
   "cell_type": "code",
   "execution_count": 8,
   "id": "61605df8",
   "metadata": {},
   "outputs": [
    {
     "data": {
      "image/png": "[encoded data removed]",
      "text/plain": [
       "<Figure size 500x300 with 1 Axes>"
      ]
     },
     "metadata": {},
     "output_type": "display_data"
    }
   ],
   "source": [
    "figure2 = plt.figure(figsize=(5, 3))\n",
    "\n",
    "plt.plot(T_10k, R_10k, 'o', label = 'datos')\n",
    "plt.plot(T_10k, 867213*np.exp(-0.038556*T_10k), '--', label = 'ajuste')\n",
    "\n",
    "plt.xlabel(r'T (K)')\n",
    "plt.ylabel(r'R (k$\\Omega$)')\n",
    "\n",
    "plt.grid()\n",
    "plt.legend()\n",
    "plt.savefig('termistor10k.pdf', dpi=300)"
   ]
  },
  {
   "cell_type": "markdown",
   "id": "e5697e66",
   "metadata": {},
   "source": [
    "## Termistor 100k"
   ]
  },
  {
   "cell_type": "code",
   "execution_count": 9,
   "id": "4cec4c41",
   "metadata": {},
   "outputs": [],
   "source": [
    "R_10k = np.array(dF['R 100k (kOhm)'])\n",
    "T_10k = np.array(dF['T 100k (grados)']) + 273"
   ]
  },
  {
   "cell_type": "code",
   "execution_count": 10,
   "id": "b18450b2",
   "metadata": {},
   "outputs": [
    {
     "data": {
      "image/png": "[encoded data removed]",
      "text/plain": [
       "<Figure size 500x300 with 1 Axes>"
      ]
     },
     "metadata": {},
     "output_type": "display_data"
    }
   ],
   "source": [
    "figure3 = plt.figure(figsize=(5, 3))\n",
    "\n",
    "plt.plot(T_10k, R_10k, 'o', label = 'datos')\n",
    "plt.plot(T_10k, 867213*np.exp(-0.038556*T_10k), '--', label = 'ajuste')\n",
    "\n",
    "plt.xlabel(r'T (K)')\n",
    "plt.ylabel(r'R (k$\\Omega$)')\n",
    "\n",
    "plt.grid()\n",
    "plt.legend()\n",
    "plt.savefig('termistor100k.pdf', dpi=300)"
   ]
  },
  {
   "cell_type": "markdown",
   "id": "3175ace2",
   "metadata": {},
   "source": [
    "## PT 100"
   ]
  },
  {
   "cell_type": "code",
   "execution_count": 11,
   "id": "5625a181",
   "metadata": {},
   "outputs": [],
   "source": [
    "R_pt100 = np.array(dF['R pt100 [Ohm]'])\n",
    "T_pt100 = np.array(dF['T pt100 (grados)'])"
   ]
  },
  {
   "cell_type": "code",
   "execution_count": 12,
   "id": "b1222be8",
   "metadata": {},
   "outputs": [
    {
     "data": {
      "image/png": "[encoded data removed]",
      "text/plain": [
       "<Figure size 500x300 with 1 Axes>"
      ]
     },
     "metadata": {},
     "output_type": "display_data"
    }
   ],
   "source": [
    "figure4 = plt.figure(figsize=(5, 3))\n",
    "\n",
    "plt.plot(T_pt100, R_pt100, 'o', label = 'datos')\n",
    "\n",
    "plt.xlabel(r'T (°C)')\n",
    "plt.ylabel(r'R (k$\\Omega$)')\n",
    "\n",
    "plt.grid()\n",
    "plt.legend()\n",
    "plt.savefig('pt100.pdf', dpi=300)"
   ]
  },
  {
   "cell_type": "markdown",
   "id": "8f1b88f5",
   "metadata": {},
   "source": [
    "## LM35"
   ]
  },
  {
   "cell_type": "code",
   "execution_count": 15,
   "id": "04de6ddf",
   "metadata": {},
   "outputs": [],
   "source": [
    "V_LM = np.array(dF['V LM [mV]'])\n",
    "T_LM = np.array(dF['T LM  [C]'])"
   ]
  },
  {
   "cell_type": "code",
   "execution_count": null,
   "id": "c7e46534",
   "metadata": {},
   "outputs": [
    {
     "data": {
      "image/png": "[encoded data removed]",
      "text/plain": [
       "<Figure size 500x300 with 1 Axes>"
      ]
     },
     "metadata": {},
     "output_type": "display_data"
    }
   ],
   "source": [
    "figure5 = plt.figure(figsize=(5, 3))\n",
    "\n",
    "plt.plot(T_LM, V_LM, 'o', label = 'datos')\n",
    "plt.plot(T_LM, 21.16*T_LM-205.81, '--', label = 'ajuste')\n",
    "\n",
    "plt.xlabel(r'T (°C)')\n",
    "plt.ylabel(r'V (mV)')\n",
    "\n",
    "plt.grid()\n",
    "plt.legend()\n",
    "plt.savefig('pt100.pdf', dpi=300)"
   ]
  }
 ],
 "metadata": {
  "kernelspec": {
   "display_name": "base",
   "language": "python",
   "name": "python3"
  },
  "language_info": {
   "codemirror_mode": {
    "name": "ipython",
    "version": 3
   },
   "file_extension": ".py",
   "mimetype": "text/x-python",
   "name": "python",
   "nbconvert_exporter": "python",
   "pygments_lexer": "ipython3",
   "version": "3.12.2"
  }
 },
 "nbformat": 4,
 "nbformat_minor": 5
}
