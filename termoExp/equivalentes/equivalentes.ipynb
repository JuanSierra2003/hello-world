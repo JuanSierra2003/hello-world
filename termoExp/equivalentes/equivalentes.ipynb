{
 "cells": [
  {
   "cell_type": "code",
   "execution_count": 2,
   "metadata": {},
   "outputs": [],
   "source": [
    "import numpy as np\n",
    "import pandas as pd\n",
    "from matplotlib import pyplot as plt   \n",
    "from scipy.optimize import curve_fit\n",
    "from cycler import cycler"
   ]
  },
  {
   "cell_type": "code",
   "execution_count": 3,
   "metadata": {},
   "outputs": [],
   "source": [
    "tex_fonts = {\n",
    "    # Use LaTeX to write all text\n",
    "    \"text.usetex\": True,\n",
    "    \"font.family\": \"serif\",\n",
    "    # Use 10pt font in plots, to match 10pt font in document\n",
    "    \"axes.labelsize\": 8,\n",
    "    \"font.size\": 8,\n",
    "    # Make the legend/label fonts a little smaller\n",
    "    \"legend.fontsize\": 7,\n",
    "    \"xtick.labelsize\": 8,\n",
    "    \"ytick.labelsize\": 8\n",
    "}\n",
    "\n",
    "plt.rcParams['axes.prop_cycle'] = cycler(color=[\n",
    "    # Par 1: Tonos claros de azul\n",
    "    \"#7FCFFF\",  # Azul claro 1\n",
    "    \"#5BB2E5\",  # Azul claro 2 (ligeramente más oscuro)\n",
    "\n",
    "    # Par 2: Tonos profundos de azul\n",
    "    \"#003F9E\",  # Azul intenso 1\n",
    "    \"#002C7A\",  # Azul intenso 2 (un poco más profundo)\n",
    "\n",
    "    # Par 3: Tonos violeta/magenta\n",
    "    \"#D340A1\",  # Magenta brillante 1\n",
    "    \"#A02C78\",  # Violeta oscuro 2\n",
    "])\n",
    "\n",
    "plt.style.use('seaborn-v0_8-white')\n",
    "plt.rcParams.update(tex_fonts)"
   ]
  },
  {
   "cell_type": "markdown",
   "metadata": {},
   "source": [
    "## Equivalente Mecánico"
   ]
  },
  {
   "cell_type": "code",
   "execution_count": 4,
   "metadata": {},
   "outputs": [],
   "source": [
    "df = pd.read_csv('termo2.csv')"
   ]
  },
  {
   "cell_type": "code",
   "execution_count": 5,
   "metadata": {},
   "outputs": [
    {
     "data": {
      "text/html": [
       "<div>\n",
       "<style scoped>\n",
       "    .dataframe tbody tr th:only-of-type {\n",
       "        vertical-align: middle;\n",
       "    }\n",
       "\n",
       "    .dataframe tbody tr th {\n",
       "        vertical-align: top;\n",
       "    }\n",
       "\n",
       "    .dataframe thead th {\n",
       "        text-align: right;\n",
       "    }\n",
       "</style>\n",
       "<table border=\"1\" class=\"dataframe\">\n",
       "  <thead>\n",
       "    <tr style=\"text-align: right;\">\n",
       "      <th></th>\n",
       "      <th>Cantidad de vueltas</th>\n",
       "      <th>R</th>\n",
       "      <th>T_cal</th>\n",
       "      <th>R_cal</th>\n",
       "    </tr>\n",
       "  </thead>\n",
       "  <tbody>\n",
       "    <tr>\n",
       "      <th>0</th>\n",
       "      <td>10</td>\n",
       "      <td>109.6</td>\n",
       "      <td>22.0</td>\n",
       "      <td>115190.0</td>\n",
       "    </tr>\n",
       "    <tr>\n",
       "      <th>1</th>\n",
       "      <td>20</td>\n",
       "      <td>105.5</td>\n",
       "      <td>23.0</td>\n",
       "      <td>109850.0</td>\n",
       "    </tr>\n",
       "    <tr>\n",
       "      <th>2</th>\n",
       "      <td>30</td>\n",
       "      <td>101.2</td>\n",
       "      <td>24.0</td>\n",
       "      <td>104800.0</td>\n",
       "    </tr>\n",
       "    <tr>\n",
       "      <th>3</th>\n",
       "      <td>40</td>\n",
       "      <td>97.8</td>\n",
       "      <td>25.0</td>\n",
       "      <td>100000.0</td>\n",
       "    </tr>\n",
       "    <tr>\n",
       "      <th>4</th>\n",
       "      <td>50</td>\n",
       "      <td>94.6</td>\n",
       "      <td>26.0</td>\n",
       "      <td>95447.0</td>\n",
       "    </tr>\n",
       "    <tr>\n",
       "      <th>5</th>\n",
       "      <td>60</td>\n",
       "      <td>90.5</td>\n",
       "      <td>27.0</td>\n",
       "      <td>91126.0</td>\n",
       "    </tr>\n",
       "    <tr>\n",
       "      <th>6</th>\n",
       "      <td>70</td>\n",
       "      <td>87.8</td>\n",
       "      <td>28.0</td>\n",
       "      <td>87022.0</td>\n",
       "    </tr>\n",
       "    <tr>\n",
       "      <th>7</th>\n",
       "      <td>80</td>\n",
       "      <td>84.5</td>\n",
       "      <td>29.0</td>\n",
       "      <td>83124.0</td>\n",
       "    </tr>\n",
       "    <tr>\n",
       "      <th>8</th>\n",
       "      <td>90</td>\n",
       "      <td>81.1</td>\n",
       "      <td>30.0</td>\n",
       "      <td>79422.0</td>\n",
       "    </tr>\n",
       "    <tr>\n",
       "      <th>9</th>\n",
       "      <td>100</td>\n",
       "      <td>77.9</td>\n",
       "      <td>31.0</td>\n",
       "      <td>75903.0</td>\n",
       "    </tr>\n",
       "    <tr>\n",
       "      <th>10</th>\n",
       "      <td>110</td>\n",
       "      <td>75.0</td>\n",
       "      <td>32.0</td>\n",
       "      <td>72560.0</td>\n",
       "    </tr>\n",
       "    <tr>\n",
       "      <th>11</th>\n",
       "      <td>120</td>\n",
       "      <td>72.2</td>\n",
       "      <td>33.0</td>\n",
       "      <td>69380.0</td>\n",
       "    </tr>\n",
       "    <tr>\n",
       "      <th>12</th>\n",
       "      <td>130</td>\n",
       "      <td>70.1</td>\n",
       "      <td>34.0</td>\n",
       "      <td>66356.0</td>\n",
       "    </tr>\n",
       "    <tr>\n",
       "      <th>13</th>\n",
       "      <td>140</td>\n",
       "      <td>67.3</td>\n",
       "      <td>35.0</td>\n",
       "      <td>63480.0</td>\n",
       "    </tr>\n",
       "    <tr>\n",
       "      <th>14</th>\n",
       "      <td>150</td>\n",
       "      <td>65.3</td>\n",
       "      <td>36.0</td>\n",
       "      <td>60743.0</td>\n",
       "    </tr>\n",
       "    <tr>\n",
       "      <th>15</th>\n",
       "      <td>160</td>\n",
       "      <td>63.4</td>\n",
       "      <td>37.0</td>\n",
       "      <td>58138.0</td>\n",
       "    </tr>\n",
       "    <tr>\n",
       "      <th>16</th>\n",
       "      <td>170</td>\n",
       "      <td>61.4</td>\n",
       "      <td>38.0</td>\n",
       "      <td>55658.0</td>\n",
       "    </tr>\n",
       "    <tr>\n",
       "      <th>17</th>\n",
       "      <td>180</td>\n",
       "      <td>59.5</td>\n",
       "      <td>39.0</td>\n",
       "      <td>53297.0</td>\n",
       "    </tr>\n",
       "    <tr>\n",
       "      <th>18</th>\n",
       "      <td>190</td>\n",
       "      <td>58.2</td>\n",
       "      <td>40.0</td>\n",
       "      <td>51048.0</td>\n",
       "    </tr>\n",
       "    <tr>\n",
       "      <th>19</th>\n",
       "      <td>200</td>\n",
       "      <td>57.0</td>\n",
       "      <td>41.0</td>\n",
       "      <td>48905.0</td>\n",
       "    </tr>\n",
       "    <tr>\n",
       "      <th>20</th>\n",
       "      <td>210</td>\n",
       "      <td>56.6</td>\n",
       "      <td>42.0</td>\n",
       "      <td>46863.0</td>\n",
       "    </tr>\n",
       "    <tr>\n",
       "      <th>21</th>\n",
       "      <td>220</td>\n",
       "      <td>56.3</td>\n",
       "      <td>43.0</td>\n",
       "      <td>44917.0</td>\n",
       "    </tr>\n",
       "    <tr>\n",
       "      <th>22</th>\n",
       "      <td>230</td>\n",
       "      <td>55.9</td>\n",
       "      <td>44.0</td>\n",
       "      <td>43062.0</td>\n",
       "    </tr>\n",
       "    <tr>\n",
       "      <th>23</th>\n",
       "      <td>240</td>\n",
       "      <td>55.6</td>\n",
       "      <td>45.0</td>\n",
       "      <td>41292.0</td>\n",
       "    </tr>\n",
       "    <tr>\n",
       "      <th>24</th>\n",
       "      <td>250</td>\n",
       "      <td>55.3</td>\n",
       "      <td>46.0</td>\n",
       "      <td>39605.0</td>\n",
       "    </tr>\n",
       "    <tr>\n",
       "      <th>25</th>\n",
       "      <td>260</td>\n",
       "      <td>55.0</td>\n",
       "      <td>NaN</td>\n",
       "      <td>NaN</td>\n",
       "    </tr>\n",
       "    <tr>\n",
       "      <th>26</th>\n",
       "      <td>270</td>\n",
       "      <td>54.6</td>\n",
       "      <td>NaN</td>\n",
       "      <td>NaN</td>\n",
       "    </tr>\n",
       "    <tr>\n",
       "      <th>27</th>\n",
       "      <td>280</td>\n",
       "      <td>54.3</td>\n",
       "      <td>NaN</td>\n",
       "      <td>NaN</td>\n",
       "    </tr>\n",
       "    <tr>\n",
       "      <th>28</th>\n",
       "      <td>290</td>\n",
       "      <td>54.0</td>\n",
       "      <td>NaN</td>\n",
       "      <td>NaN</td>\n",
       "    </tr>\n",
       "    <tr>\n",
       "      <th>29</th>\n",
       "      <td>300</td>\n",
       "      <td>53.7</td>\n",
       "      <td>NaN</td>\n",
       "      <td>NaN</td>\n",
       "    </tr>\n",
       "    <tr>\n",
       "      <th>30</th>\n",
       "      <td>310</td>\n",
       "      <td>53.5</td>\n",
       "      <td>NaN</td>\n",
       "      <td>NaN</td>\n",
       "    </tr>\n",
       "    <tr>\n",
       "      <th>31</th>\n",
       "      <td>320</td>\n",
       "      <td>53.2</td>\n",
       "      <td>NaN</td>\n",
       "      <td>NaN</td>\n",
       "    </tr>\n",
       "    <tr>\n",
       "      <th>32</th>\n",
       "      <td>330</td>\n",
       "      <td>52.7</td>\n",
       "      <td>NaN</td>\n",
       "      <td>NaN</td>\n",
       "    </tr>\n",
       "    <tr>\n",
       "      <th>33</th>\n",
       "      <td>340</td>\n",
       "      <td>52.5</td>\n",
       "      <td>NaN</td>\n",
       "      <td>NaN</td>\n",
       "    </tr>\n",
       "    <tr>\n",
       "      <th>34</th>\n",
       "      <td>350</td>\n",
       "      <td>52.2</td>\n",
       "      <td>NaN</td>\n",
       "      <td>NaN</td>\n",
       "    </tr>\n",
       "    <tr>\n",
       "      <th>35</th>\n",
       "      <td>360</td>\n",
       "      <td>52.3</td>\n",
       "      <td>NaN</td>\n",
       "      <td>NaN</td>\n",
       "    </tr>\n",
       "    <tr>\n",
       "      <th>36</th>\n",
       "      <td>370</td>\n",
       "      <td>52.0</td>\n",
       "      <td>NaN</td>\n",
       "      <td>NaN</td>\n",
       "    </tr>\n",
       "    <tr>\n",
       "      <th>37</th>\n",
       "      <td>380</td>\n",
       "      <td>51.6</td>\n",
       "      <td>NaN</td>\n",
       "      <td>NaN</td>\n",
       "    </tr>\n",
       "    <tr>\n",
       "      <th>38</th>\n",
       "      <td>390</td>\n",
       "      <td>51.3</td>\n",
       "      <td>NaN</td>\n",
       "      <td>NaN</td>\n",
       "    </tr>\n",
       "    <tr>\n",
       "      <th>39</th>\n",
       "      <td>400</td>\n",
       "      <td>51.1</td>\n",
       "      <td>NaN</td>\n",
       "      <td>NaN</td>\n",
       "    </tr>\n",
       "    <tr>\n",
       "      <th>40</th>\n",
       "      <td>410</td>\n",
       "      <td>50.7</td>\n",
       "      <td>NaN</td>\n",
       "      <td>NaN</td>\n",
       "    </tr>\n",
       "    <tr>\n",
       "      <th>41</th>\n",
       "      <td>420</td>\n",
       "      <td>52.1</td>\n",
       "      <td>NaN</td>\n",
       "      <td>NaN</td>\n",
       "    </tr>\n",
       "    <tr>\n",
       "      <th>42</th>\n",
       "      <td>430</td>\n",
       "      <td>50.2</td>\n",
       "      <td>NaN</td>\n",
       "      <td>NaN</td>\n",
       "    </tr>\n",
       "    <tr>\n",
       "      <th>43</th>\n",
       "      <td>440</td>\n",
       "      <td>50.0</td>\n",
       "      <td>NaN</td>\n",
       "      <td>NaN</td>\n",
       "    </tr>\n",
       "    <tr>\n",
       "      <th>44</th>\n",
       "      <td>450</td>\n",
       "      <td>49.1</td>\n",
       "      <td>NaN</td>\n",
       "      <td>NaN</td>\n",
       "    </tr>\n",
       "    <tr>\n",
       "      <th>45</th>\n",
       "      <td>460</td>\n",
       "      <td>48.9</td>\n",
       "      <td>NaN</td>\n",
       "      <td>NaN</td>\n",
       "    </tr>\n",
       "    <tr>\n",
       "      <th>46</th>\n",
       "      <td>470</td>\n",
       "      <td>48.4</td>\n",
       "      <td>NaN</td>\n",
       "      <td>NaN</td>\n",
       "    </tr>\n",
       "    <tr>\n",
       "      <th>47</th>\n",
       "      <td>480</td>\n",
       "      <td>48.0</td>\n",
       "      <td>NaN</td>\n",
       "      <td>NaN</td>\n",
       "    </tr>\n",
       "    <tr>\n",
       "      <th>48</th>\n",
       "      <td>490</td>\n",
       "      <td>47.5</td>\n",
       "      <td>NaN</td>\n",
       "      <td>NaN</td>\n",
       "    </tr>\n",
       "    <tr>\n",
       "      <th>49</th>\n",
       "      <td>500</td>\n",
       "      <td>47.0</td>\n",
       "      <td>NaN</td>\n",
       "      <td>NaN</td>\n",
       "    </tr>\n",
       "  </tbody>\n",
       "</table>\n",
       "</div>"
      ],
      "text/plain": [
       "    Cantidad de vueltas      R  T_cal     R_cal\n",
       "0                    10  109.6   22.0  115190.0\n",
       "1                    20  105.5   23.0  109850.0\n",
       "2                    30  101.2   24.0  104800.0\n",
       "3                    40   97.8   25.0  100000.0\n",
       "4                    50   94.6   26.0   95447.0\n",
       "5                    60   90.5   27.0   91126.0\n",
       "6                    70   87.8   28.0   87022.0\n",
       "7                    80   84.5   29.0   83124.0\n",
       "8                    90   81.1   30.0   79422.0\n",
       "9                   100   77.9   31.0   75903.0\n",
       "10                  110   75.0   32.0   72560.0\n",
       "11                  120   72.2   33.0   69380.0\n",
       "12                  130   70.1   34.0   66356.0\n",
       "13                  140   67.3   35.0   63480.0\n",
       "14                  150   65.3   36.0   60743.0\n",
       "15                  160   63.4   37.0   58138.0\n",
       "16                  170   61.4   38.0   55658.0\n",
       "17                  180   59.5   39.0   53297.0\n",
       "18                  190   58.2   40.0   51048.0\n",
       "19                  200   57.0   41.0   48905.0\n",
       "20                  210   56.6   42.0   46863.0\n",
       "21                  220   56.3   43.0   44917.0\n",
       "22                  230   55.9   44.0   43062.0\n",
       "23                  240   55.6   45.0   41292.0\n",
       "24                  250   55.3   46.0   39605.0\n",
       "25                  260   55.0    NaN       NaN\n",
       "26                  270   54.6    NaN       NaN\n",
       "27                  280   54.3    NaN       NaN\n",
       "28                  290   54.0    NaN       NaN\n",
       "29                  300   53.7    NaN       NaN\n",
       "30                  310   53.5    NaN       NaN\n",
       "31                  320   53.2    NaN       NaN\n",
       "32                  330   52.7    NaN       NaN\n",
       "33                  340   52.5    NaN       NaN\n",
       "34                  350   52.2    NaN       NaN\n",
       "35                  360   52.3    NaN       NaN\n",
       "36                  370   52.0    NaN       NaN\n",
       "37                  380   51.6    NaN       NaN\n",
       "38                  390   51.3    NaN       NaN\n",
       "39                  400   51.1    NaN       NaN\n",
       "40                  410   50.7    NaN       NaN\n",
       "41                  420   52.1    NaN       NaN\n",
       "42                  430   50.2    NaN       NaN\n",
       "43                  440   50.0    NaN       NaN\n",
       "44                  450   49.1    NaN       NaN\n",
       "45                  460   48.9    NaN       NaN\n",
       "46                  470   48.4    NaN       NaN\n",
       "47                  480   48.0    NaN       NaN\n",
       "48                  490   47.5    NaN       NaN\n",
       "49                  500   47.0    NaN       NaN"
      ]
     },
     "execution_count": 5,
     "metadata": {},
     "output_type": "execute_result"
    }
   ],
   "source": [
    "df"
   ]
  },
  {
   "cell_type": "code",
   "execution_count": 6,
   "metadata": {},
   "outputs": [],
   "source": [
    "vueltas = np.array(df['Cantidad de vueltas'])[:20]\n",
    "R = np.array(df['R'])[:20]\n",
    "T_cal = np.array(df['T_cal'])[:25]+273\n",
    "R_cal = np.array(df['R_cal'])[:25]*1e-3"
   ]
  },
  {
   "cell_type": "code",
   "execution_count": 7,
   "metadata": {},
   "outputs": [],
   "source": [
    "def func(R, beta, A):\n",
    "    return beta/(np.log(R)+A)"
   ]
  },
  {
   "cell_type": "code",
   "execution_count": 8,
   "metadata": {},
   "outputs": [],
   "source": [
    "args, covs = curve_fit(func, R_cal, T_cal)"
   ]
  },
  {
   "cell_type": "code",
   "execution_count": 9,
   "metadata": {},
   "outputs": [
    {
     "data": {
      "text/plain": [
       "[<matplotlib.lines.Line2D at 0x70bb6187d220>]"
      ]
     },
     "execution_count": 9,
     "metadata": {},
     "output_type": "execute_result"
    },
    {
     "data": {
      "image/png": "[encoded data removed]",
      "text/plain": [
       "<Figure size 640x480 with 1 Axes>"
      ]
     },
     "metadata": {},
     "output_type": "display_data"
    }
   ],
   "source": [
    "plt.scatter(R_cal, T_cal)\n",
    "plt.plot(R_cal, func(R_cal, *args))"
   ]
  },
  {
   "cell_type": "code",
   "execution_count": 10,
   "metadata": {},
   "outputs": [],
   "source": [
    "T = func(R, *args)-273"
   ]
  },
  {
   "cell_type": "code",
   "execution_count": 11,
   "metadata": {},
   "outputs": [],
   "source": [
    "Q = 310*0.22*(T-T[0])                                   #calories\n",
    "W = (4016e-3)*9.8*np.pi*(5e-2)*(vueltas-vueltas[0])      #Jules"
   ]
  },
  {
   "cell_type": "code",
   "execution_count": 12,
   "metadata": {},
   "outputs": [],
   "source": [
    "def line(x, a, b):\n",
    "    return a*x + b"
   ]
  },
  {
   "cell_type": "code",
   "execution_count": 13,
   "metadata": {},
   "outputs": [],
   "source": [
    "args2, covs2 = curve_fit(line, W, Q)"
   ]
  },
  {
   "cell_type": "code",
   "execution_count": 14,
   "metadata": {},
   "outputs": [
    {
     "data": {
      "text/plain": [
       "[<matplotlib.lines.Line2D at 0x70bb619582f0>]"
      ]
     },
     "execution_count": 14,
     "metadata": {},
     "output_type": "execute_result"
    },
    {
     "data": {
      "image/png": "[encoded data removed]",
      "text/plain": [
       "<Figure size 640x480 with 1 Axes>"
      ]
     },
     "metadata": {},
     "output_type": "display_data"
    }
   ],
   "source": [
    "plt.scatter(W, Q)\n",
    "plt.plot(W, line(W, *args2))"
   ]
  },
  {
   "cell_type": "code",
   "execution_count": 15,
   "metadata": {},
   "outputs": [
    {
     "data": {
      "text/plain": [
       "array([ 0.85845196, 10.36466256])"
      ]
     },
     "execution_count": 15,
     "metadata": {},
     "output_type": "execute_result"
    }
   ],
   "source": [
    "args2"
   ]
  },
  {
   "cell_type": "code",
   "execution_count": 16,
   "metadata": {},
   "outputs": [
    {
     "data": {
      "text/plain": [
       "array([23.08350181, 23.88378511, 24.76218784, 25.48747632, 26.19691556,\n",
       "       27.14705356, 27.80004068, 28.63004677, 29.52492181, 30.40728152,\n",
       "       31.24353313, 32.08685717, 32.74432551, 33.65694482, 34.33588654,\n",
       "       35.00334206, 35.73118141, 36.44827962, 36.95424083, 37.43293359])"
      ]
     },
     "execution_count": 16,
     "metadata": {},
     "output_type": "execute_result"
    }
   ],
   "source": [
    "T"
   ]
  },
  {
   "cell_type": "markdown",
   "metadata": {},
   "source": [
    "## Equivalente Eléctrico"
   ]
  },
  {
   "cell_type": "code",
   "execution_count": 17,
   "metadata": {},
   "outputs": [],
   "source": [
    "df_cal = pd.read_csv('cal_term_100k.csv')\n",
    "R_cal = np.array(df_cal['R 100k (kOhm)'])\n",
    "T_cal = np.array(df_cal['T 100k (grados)'])+273"
   ]
  },
  {
   "cell_type": "code",
   "execution_count": 18,
   "metadata": {},
   "outputs": [],
   "source": [
    "cal_args, cal_covs = curve_fit(func, R_cal, T_cal)"
   ]
  },
  {
   "cell_type": "code",
   "execution_count": 19,
   "metadata": {},
   "outputs": [],
   "source": [
    "df2 = pd.read_csv('equivElectrico.csv')"
   ]
  },
  {
   "cell_type": "code",
   "execution_count": 20,
   "metadata": {},
   "outputs": [
    {
     "data": {
      "text/html": [
       "<div>\n",
       "<style scoped>\n",
       "    .dataframe tbody tr th:only-of-type {\n",
       "        vertical-align: middle;\n",
       "    }\n",
       "\n",
       "    .dataframe tbody tr th {\n",
       "        vertical-align: top;\n",
       "    }\n",
       "\n",
       "    .dataframe thead th {\n",
       "        text-align: right;\n",
       "    }\n",
       "</style>\n",
       "<table border=\"1\" class=\"dataframe\">\n",
       "  <thead>\n",
       "    <tr style=\"text-align: right;\">\n",
       "      <th></th>\n",
       "      <th>t1</th>\n",
       "      <th>R1</th>\n",
       "      <th>t2</th>\n",
       "      <th>R2</th>\n",
       "      <th>t3</th>\n",
       "      <th>R3</th>\n",
       "    </tr>\n",
       "  </thead>\n",
       "  <tbody>\n",
       "    <tr>\n",
       "      <th>0</th>\n",
       "      <td>0</td>\n",
       "      <td>112.0</td>\n",
       "      <td>0.0</td>\n",
       "      <td>111.6</td>\n",
       "      <td>0.0</td>\n",
       "      <td>94.5</td>\n",
       "    </tr>\n",
       "    <tr>\n",
       "      <th>1</th>\n",
       "      <td>10</td>\n",
       "      <td>111.9</td>\n",
       "      <td>30.0</td>\n",
       "      <td>108.6</td>\n",
       "      <td>30.0</td>\n",
       "      <td>88.1</td>\n",
       "    </tr>\n",
       "    <tr>\n",
       "      <th>2</th>\n",
       "      <td>20</td>\n",
       "      <td>111.7</td>\n",
       "      <td>60.0</td>\n",
       "      <td>105.6</td>\n",
       "      <td>60.0</td>\n",
       "      <td>81.2</td>\n",
       "    </tr>\n",
       "    <tr>\n",
       "      <th>3</th>\n",
       "      <td>30</td>\n",
       "      <td>111.6</td>\n",
       "      <td>90.0</td>\n",
       "      <td>102.6</td>\n",
       "      <td>90.0</td>\n",
       "      <td>75.6</td>\n",
       "    </tr>\n",
       "    <tr>\n",
       "      <th>4</th>\n",
       "      <td>40</td>\n",
       "      <td>111.4</td>\n",
       "      <td>120.0</td>\n",
       "      <td>99.7</td>\n",
       "      <td>120.0</td>\n",
       "      <td>70.5</td>\n",
       "    </tr>\n",
       "    <tr>\n",
       "      <th>...</th>\n",
       "      <td>...</td>\n",
       "      <td>...</td>\n",
       "      <td>...</td>\n",
       "      <td>...</td>\n",
       "      <td>...</td>\n",
       "      <td>...</td>\n",
       "    </tr>\n",
       "    <tr>\n",
       "      <th>71</th>\n",
       "      <td>1560</td>\n",
       "      <td>72.2</td>\n",
       "      <td>NaN</td>\n",
       "      <td>NaN</td>\n",
       "      <td>NaN</td>\n",
       "      <td>NaN</td>\n",
       "    </tr>\n",
       "    <tr>\n",
       "      <th>72</th>\n",
       "      <td>1620</td>\n",
       "      <td>71.1</td>\n",
       "      <td>NaN</td>\n",
       "      <td>NaN</td>\n",
       "      <td>NaN</td>\n",
       "      <td>NaN</td>\n",
       "    </tr>\n",
       "    <tr>\n",
       "      <th>73</th>\n",
       "      <td>1680</td>\n",
       "      <td>70.7</td>\n",
       "      <td>NaN</td>\n",
       "      <td>NaN</td>\n",
       "      <td>NaN</td>\n",
       "      <td>NaN</td>\n",
       "    </tr>\n",
       "    <tr>\n",
       "      <th>74</th>\n",
       "      <td>1740</td>\n",
       "      <td>69.5</td>\n",
       "      <td>NaN</td>\n",
       "      <td>NaN</td>\n",
       "      <td>NaN</td>\n",
       "      <td>NaN</td>\n",
       "    </tr>\n",
       "    <tr>\n",
       "      <th>75</th>\n",
       "      <td>1800</td>\n",
       "      <td>68.5</td>\n",
       "      <td>NaN</td>\n",
       "      <td>NaN</td>\n",
       "      <td>NaN</td>\n",
       "      <td>NaN</td>\n",
       "    </tr>\n",
       "  </tbody>\n",
       "</table>\n",
       "<p>76 rows × 6 columns</p>\n",
       "</div>"
      ],
      "text/plain": [
       "      t1     R1     t2     R2     t3    R3\n",
       "0      0  112.0    0.0  111.6    0.0  94.5\n",
       "1     10  111.9   30.0  108.6   30.0  88.1\n",
       "2     20  111.7   60.0  105.6   60.0  81.2\n",
       "3     30  111.6   90.0  102.6   90.0  75.6\n",
       "4     40  111.4  120.0   99.7  120.0  70.5\n",
       "..   ...    ...    ...    ...    ...   ...\n",
       "71  1560   72.2    NaN    NaN    NaN   NaN\n",
       "72  1620   71.1    NaN    NaN    NaN   NaN\n",
       "73  1680   70.7    NaN    NaN    NaN   NaN\n",
       "74  1740   69.5    NaN    NaN    NaN   NaN\n",
       "75  1800   68.5    NaN    NaN    NaN   NaN\n",
       "\n",
       "[76 rows x 6 columns]"
      ]
     },
     "execution_count": 20,
     "metadata": {},
     "output_type": "execute_result"
    }
   ],
   "source": [
    "df2"
   ]
  },
  {
   "cell_type": "code",
   "execution_count": 21,
   "metadata": {},
   "outputs": [],
   "source": [
    "# t (seconds)\n",
    "t1 = np.array(df2['t1'])[df2['t1']>=0]\n",
    "t2 = np.array(df2['t2'])[df2['t2']>=0]\n",
    "t3 = np.array(df2['t3'])[df2['t3']>=0]\n",
    "\n",
    "# R (kOhm)\n",
    "R1 = np.array(df2['R1'][df2['R1']>=0])\n",
    "R2 = np.array(df2['R2'][df2['R2']>=0])\n",
    "R3 = np.array(df2['R3'][df2['R3']>=0])"
   ]
  },
  {
   "cell_type": "code",
   "execution_count": 22,
   "metadata": {},
   "outputs": [],
   "source": [
    "M_Al = 48 # g\n",
    "m_1, m_2, m_3 = 83, 130, 104    # g\n",
    "V_1, V_2, V_3 = 5, 10, 15       # V\n",
    "I_1, I_2, I_3 = 0.7, 1.4, 2.1   # A"
   ]
  },
  {
   "cell_type": "code",
   "execution_count": 23,
   "metadata": {},
   "outputs": [],
   "source": [
    "times = [t1, t2, t3]\n",
    "Resistances = [R1, R2, R3]\n",
    "mases = [m_1, m_2, m_3]\n",
    "voltages = [V_1, V_2, V_3]\n",
    "currents = [I_1, I_2, I_3]\n",
    "alpha = [.4, .6, 1]"
   ]
  },
  {
   "cell_type": "code",
   "execution_count": 29,
   "metadata": {},
   "outputs": [
    {
     "data": {
      "image/png": "[encoded data removed]",
      "text/plain": [
       "<Figure size 640x480 with 1 Axes>"
      ]
     },
     "metadata": {},
     "output_type": "display_data"
    }
   ],
   "source": [
    "args = []\n",
    "covs = []\n",
    "for ii in range(2,-1,-1):\n",
    "    work = voltages[ii] * currents[ii] * times[ii]  # Joules\n",
    "    T = func(Resistances[ii], *cal_args) - 273\n",
    "    Q = (1.5*mases[ii] + 0.25*M_Al) * (T - T[0])  # calories\n",
    "    args_, covs_ = curve_fit(line, Q, work)\n",
    "    args.append(args_)\n",
    "    covs.append(covs_)\n",
    "    plt.plot(Q, work, 'o', label=f'P = {currents[ii]*voltages[ii]} Watt', markersize=8, alpha = alpha[ii])\n",
    "    plt.plot(Q, line(Q, *args_), label=f'ajuste', linewidth=4)\n",
    "\n",
    "plt.xlabel('Calor (cal)')\n",
    "plt.ylabel('Trabajo (J)')\n",
    "plt.legend()\n",
    "\n",
    "plt.savefig('calorTrabajo.png', dpi=300, bbox_inches='tight')"
   ]
  },
  {
   "cell_type": "code",
   "execution_count": 30,
   "metadata": {},
   "outputs": [
    {
     "data": {
      "text/plain": [
       "array([[    4.12601834, -1388.70295727],\n",
       "       [    4.06655015,  -950.95286281],\n",
       "       [    4.08177223,     8.95556836]])"
      ]
     },
     "execution_count": 30,
     "metadata": {},
     "output_type": "execute_result"
    }
   ],
   "source": [
    "m = np.array(args)\n",
    "m"
   ]
  },
  {
   "cell_type": "code",
   "execution_count": 31,
   "metadata": {},
   "outputs": [
    {
     "data": {
      "text/plain": [
       "(array([   4.09144691, -776.90008391]),\n",
       " array([2.52232164e-02, 5.83714037e+02]))"
      ]
     },
     "execution_count": 31,
     "metadata": {},
     "output_type": "execute_result"
    }
   ],
   "source": [
    "m.mean(axis=0), m.std(axis=0)"
   ]
  },
  {
   "cell_type": "code",
   "execution_count": 27,
   "metadata": {},
   "outputs": [
    {
     "data": {
      "text/plain": [
       "array([[5.60817679e-03, 8.41657860e+04],\n",
       "       [1.92047689e-03, 1.30142418e+04],\n",
       "       [3.68964473e-03, 7.76394848e+02]])"
      ]
     },
     "execution_count": 27,
     "metadata": {},
     "output_type": "execute_result"
    }
   ],
   "source": [
    "dm = np.array(list(map(np.diag, covs)))\n",
    "dm"
   ]
  },
  {
   "cell_type": "code",
   "execution_count": 28,
   "metadata": {},
   "outputs": [
    {
     "data": {
      "text/plain": [
       "4.875335657281212e-05"
      ]
     },
     "execution_count": 28,
     "metadata": {},
     "output_type": "execute_result"
    }
   ],
   "source": [
    "np.sum(dm[:,0]**2)"
   ]
  }
 ],
 "metadata": {
  "kernelspec": {
   "display_name": "base",
   "language": "python",
   "name": "python3"
  },
  "language_info": {
   "codemirror_mode": {
    "name": "ipython",
    "version": 3
   },
   "file_extension": ".py",
   "mimetype": "text/x-python",
   "name": "python",
   "nbconvert_exporter": "python",
   "pygments_lexer": "ipython3",
   "version": "3.12.2"
  }
 },
 "nbformat": 4,
 "nbformat_minor": 2
}
